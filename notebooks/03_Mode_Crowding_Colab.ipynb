{
  "cells": [
    {
      "cell_type": "markdown",
      "metadata": {
        "id": "view-in-github",
        "colab_type": "text"
      },
      "source": [
        "<a href=\"https://colab.research.google.com/github/robbybrodie/time_as_computation_cost/blob/main/notebooks/03_Mode_Crowding_Colab.ipynb\" target=\"_parent\"><img src=\"https://colab.research.google.com/assets/colab-badge.svg\" alt=\"Open In Colab\"/></a>"
      ]
    },
    {
      "cell_type": "markdown",
      "metadata": {
        "id": "title"
      },
      "source": [
        "# Mode Crowding Experiment\n",
        "\n",
        "This notebook explores occupancy vs capacity with softmax distribution.\n",
        "\n",
        "## Theory\n",
        "\n",
        "- **K Modes**: Each with baseline utility u_i\n",
        "- **Softmax Occupancy**: p_i(N) = softmax(u_i / τ) where τ = N\n",
        "- **Crowding**: As N ↓, distribution crowds into top modes\n",
        "- **Metrics**: Participation ratio, Gini coefficient, entropy"
      ]
    },
    {
      "cell_type": "markdown",
      "metadata": {
        "id": "setup"
      },
      "source": [
        "## Setup"
      ]
    },
    {
      "cell_type": "code",
      "execution_count": null,
      "metadata": {
        "id": "bootstrap"
      },
      "outputs": [],
      "source": [
        "# Colab bootstrap\n",
        "REPO_URL = \"https://github.com/robbybrodie/time_as_computation_cost.git\"\n",
        "REPO_NAME = \"time_as_computation_cost\"\n",
        "\n",
        "import pathlib\n",
        "if not pathlib.Path(REPO_NAME).exists():\n",
        "    !git clone $REPO_URL\n",
        "%cd $REPO_NAME\n",
        "\n",
        "if pathlib.Path(\"pyproject.toml\").exists():\n",
        "    !pip install -e ."
      ]
    },
    {
      "cell_type": "code",
      "execution_count": null,
      "metadata": {
        "id": "imports"
      },
      "outputs": [],
      "source": [
        "from experiments.run_mode_crowding import main\n",
        "import matplotlib.pyplot as plt\n",
        "import numpy as np\n",
        "from pathlib import Path\n",
        "import sys\n",
        "\n",
        "# Ensure we can import the modules\n",
        "repo_root = Path().resolve()\n",
        "sys.path.insert(0, str(repo_root / \"src\"))\n",
        "\n",
        "from tacc.crowding.mode_crowding import run_demo, run_experiment"
      ]
    },
    {
      "cell_type": "markdown",
      "metadata": {
        "id": "basic_experiment"
      },
      "source": [
        "## Basic Experiment"
      ]
    },
    {
      "cell_type": "code",
      "execution_count": null,
      "metadata": {
        "id": "run_basic"
      },
      "outputs": [],
      "source": [
        "# Run the basic experiment\n",
        "results = main()\n",
        "\n",
        "print(\"Mode crowding analysis completed!\")\n",
        "print(f\"PR_min: {results['metrics']['PR_min']:.3f}\")\n",
        "print(f\"Gini_max: {results['metrics']['Gini_max']:.3f}\")\n",
        "if results['metrics']['N_c_pr']:\n",
        "    print(f\"Critical N: {results['metrics']['N_c_pr']:.4f}\")"
      ]
    },
    {
      "cell_type": "markdown",
      "metadata": {
        "id": "interactive_demo"
      },
      "source": [
        "## Interactive Demo"
      ]
    },
    {
      "cell_type": "code",
      "execution_count": null,
      "metadata": {
        "id": "demo_plot"
      },
      "outputs": [],
      "source": [
        "# Create and display demo visualization\n",
        "fig = run_demo(K=10, N_max=1.0, N_min=0.01, n_points=100)\n",
        "plt.show()"
      ]
    },
    {
      "cell_type": "markdown",
      "metadata": {
        "id": "parameter_exploration"
      },
      "source": [
        "## Parameter Exploration"
      ]
    },
    {
      "cell_type": "code",
      "execution_count": null,
      "metadata": {
        "id": "explore_K"
      },
      "outputs": [],
      "source": [
        "# Explore different numbers of modes\n",
        "K_values = [5, 10, 20, 50]\n",
        "results_by_K = []\n",
        "\n",
        "for K in K_values:\n",
        "    exp_result = run_experiment(K=K, n_points=50)\n",
        "    results_by_K.append(exp_result)\n",
        "\n",
        "# Plot scaling with K\n",
        "fig, (ax1, ax2) = plt.subplots(1, 2, figsize=(12, 5))\n",
        "\n",
        "PR_mins = [r['metrics']['PR_min'] for r in results_by_K]\n",
        "Gini_maxs = [r['metrics']['Gini_max'] for r in results_by_K]\n",
        "\n",
        "ax1.plot(K_values, PR_mins, 'bo-', linewidth=2, markersize=8)\n",
        "ax1.set_xlabel('Number of Modes K')\n",
        "ax1.set_ylabel('Minimum Participation Ratio')\n",
        "ax1.set_title('PR_min vs K')\n",
        "ax1.grid(True, alpha=0.3)\n",
        "\n",
        "ax2.plot(K_values, Gini_maxs, 'ro-', linewidth=2, markersize=8)\n",
        "ax2.set_xlabel('Number of Modes K')\n",
        "ax2.set_ylabel('Maximum Gini Coefficient')\n",
        "ax2.set_title('Gini_max vs K')\n",
        "ax2.grid(True, alpha=0.3)\n",
        "\n",
        "plt.tight_layout()\n",
        "plt.show()\n",
        "\n",
        "print(\"K Scaling Summary:\")\n",
        "for i, K in enumerate(K_values):\n",
        "    print(f\"K={K}: PR_min={PR_mins[i]:.3f}, Gini_max={Gini_maxs[i]:.3f}\")"
      ]
    },
    {
      "cell_type": "markdown",
      "metadata": {
        "id": "utility_comparison"
      },
      "source": [
        "## Utility Distribution Comparison"
      ]
    },
    {
      "cell_type": "code",
      "execution_count": null,
      "metadata": {
        "id": "compare_utilities"
      },
      "outputs": [],
      "source": [
        "# Compare random vs spaced utilities\n",
        "utility_types = ['random', 'spaced']\n",
        "K = 10\n",
        "\n",
        "fig, ((ax1, ax2), (ax3, ax4)) = plt.subplots(2, 2, figsize=(15, 12))\n",
        "\n",
        "for i, utility_type in enumerate(utility_types):\n",
        "    exp_result = run_experiment(K=K, utility_type=utility_type)\n",
        "    \n",
        "    # Plot utilities\n",
        "    utilities = exp_result['utilities']\n",
        "    if i == 0:\n",
        "        ax1.bar(range(K), utilities, alpha=0.7, label=f'{utility_type.capitalize()}')\n",
        "        ax1.set_xlabel('Mode Index')\n",
        "        ax1.set_ylabel('Utility')\n",
        "        ax1.set_title('Utility Distributions')\n",
        "        ax1.legend()\n",
        "        ax1.grid(True, alpha=0.3)\n",
        "    else:\n",
        "        ax1.bar(range(K), utilities, alpha=0.7, label=f'{utility_type.capitalize()}')\n",
        "        ax1.legend()\n",
        "    \n",
        "    # Plot crowding curves\n",
        "    N_values = exp_result['curves']['N_values']\n",
        "    PR_values = exp_result['curves']['participation_ratio']\n",
        "    \n",
        "    if i == 0:\n",
        "        ax2.plot(N_values, PR_values, linewidth=2, label=f'{utility_type.capitalize()}')\n",
        "    else:\n",
        "        ax2.plot(N_values, PR_values, linewidth=2, label=f'{utility_type.capitalize()}')\n",
        "    \n",
        "    ax2.set_xlabel('Capacity N')\n",
        "    ax2.set_ylabel('Participation Ratio')\n",
        "    ax2.set_title('Participation Ratio vs N')\n",
        "    ax2.legend()\n",
        "    ax2.grid(True, alpha=0.3)\n",
        "    \n",
        "    # Plot Gini curves\n",
        "    Gini_values = exp_result['curves']['gini_coefficient']\n",
        "    \n",
        "    if i == 0:\n",
        "        ax3.plot(N_values, Gini_values, linewidth=2, label=f'{utility_type.capitalize()}')\n",
        "    else:\n",
        "        ax3.plot(N_values, Gini_values, linewidth=2, label=f'{utility_type.capitalize()}')\n",
        "    \n",
        "    ax3.set_xlabel('Capacity N')\n",
        "    ax3.set_ylabel('Gini Coefficient')\n",
        "    ax3.set_title('Gini Coefficient vs N')\n",
        "    ax3.legend()\n",
        "    ax3.grid(True, alpha=0.3)\n",
        "    \n",
        "    # Plot entropy curves\n",
        "    entropy_values = exp_result['curves']['entropy']\n",
        "    \n",
        "    if i == 0:\n",
        "        ax4.plot(N_values, entropy_values, linewidth=2, label=f'{utility_type.capitalize()}')\n",
        "    else:\n",
        "        ax4.plot(N_values, entropy_values, linewidth=2, label=f'{utility_type.capitalize()}')\n",
        "    \n",
        "    ax4.set_xlabel('Capacity N')\n",
        "    ax4.set_ylabel('Shannon Entropy')\n",
        "    ax4.set_title('Entropy vs N')\n",
        "    ax4.legend()\n",
        "    ax4.grid(True, alpha=0.3)\n",
        "\n",
        "plt.tight_layout()\n",
        "plt.show()"
      ]
    },
    {
      "cell_type": "markdown",
      "metadata": {
        "id": "critical_analysis"
      },
      "source": [
        "## Critical Point Analysis"
      ]
    },
    {
      "cell_type": "code",
      "execution_count": null,
      "metadata": {
        "id": "critical_points"
      },
      "outputs": [],
      "source": [
        "# Detailed critical point analysis\n",
        "thresholds = [0.05, 0.1, 0.2, 0.5]\n",
        "K = 15\n",
        "\n",
        "critical_points = []\n",
        "for threshold in thresholds:\n",
        "    exp_result = run_experiment(K=K, threshold=threshold, n_points=200)\n",
        "    critical_points.append(exp_result['critical_analysis'])\n",
        "\n",
        "# Plot derivative analysis for one threshold\n",
        "detailed_result = run_experiment(K=K, threshold=0.1, n_points=200)\n",
        "N_values = detailed_result['curves']['N_values']\n",
        "critical_analysis = detailed_result['critical_analysis']\n",
        "\n",
        "fig, ((ax1, ax2), (ax3, ax4)) = plt.subplots(2, 2, figsize=(15, 12))\n",
        "\n",
        "# Participation ratio and its derivative\n",
        "PR_values = detailed_result['curves']['participation_ratio']\n",
        "dPR_dN = critical_analysis['dPR_dN']\n",
        "\n",
        "ax1.plot(N_values, PR_values, 'b-', linewidth=2, label='PR(N)')\n",
        "if 'N_c_pr' in critical_analysis:\n",
        "    ax1.axvline(x=critical_analysis['N_c_pr'], color='r', linestyle='--', \n",
        "                label=f'N_c = {critical_analysis[\"N_c_pr\"]:.3f}')\n",
        "ax1.set_xlabel('Capacity N')\n",
        "ax1.set_ylabel('Participation Ratio')\n",
        "ax1.set_title('Participation Ratio')\n",
        "ax1.legend()\n",
        "ax1.grid(True, alpha=0.3)\n",
        "\n",
        "ax2.plot(N_values, dPR_dN, 'g-', linewidth=2, label='dPR/dN')\n",
        "ax2.axhline(y=0.1, color='r', linestyle='--', alpha=0.7, label='Threshold = 0.1')\n",
        "ax2.axhline(y=-0.1, color='r', linestyle='--', alpha=0.7)\n",
        "ax2.set_xlabel('Capacity N')\n",
        "ax2.set_ylabel('dPR/dN')\n",
        "ax2.set_title('PR Derivative')\n",
        "ax2.legend()\n",
        "ax2.grid(True, alpha=0.3)\n",
        "\n",
        "# Gini coefficient and its derivative\n",
        "Gini_values = detailed_result['curves']['gini_coefficient']\n",
        "dGini_dN = critical_analysis['dGini_dN']\n",
        "\n",
        "ax3.plot(N_values, Gini_values, 'r-', linewidth=2, label='Gini(N)')\n",
        "if 'N_c_gini' in critical_analysis:\n",
        "    ax3.axvline(x=critical_analysis['N_c_gini'], color='b', linestyle='--',\n",
        "                label=f'N_c = {critical_analysis[\"N_c_gini\"]:.3f}')\n",
        "ax3.set_xlabel('Capacity N')\n",
        "ax3.set_ylabel('Gini Coefficient')\n",
        "ax3.set_title('Gini Coefficient')\n",
        "ax3.legend()\n",
        "ax3.grid(True, alpha=0.3)\n",
        "\n",
        "ax4.plot(N_values, dGini_dN, 'm-', linewidth=2, label='dGini/dN')\n",
        "ax4.axhline(y=0.1, color='r', linestyle='--', alpha=0.7, label='Threshold = 0.1')\n",
        "ax4.axhline(y=-0.1, color='r', linestyle='--', alpha=0.7)\n",
        "ax4.set_xlabel('Capacity N')\n",
        "ax4.set_ylabel('dGini/dN')\n",
        "ax4.set_title('Gini Derivative')\n",
        "ax4.legend()\n",
        "ax4.grid(True, alpha=0.3)\n",
        "\n",
        "plt.tight_layout()\n",
        "plt.show()\n",
        "\n",
        "# Summary of critical points vs threshold\n",
        "print(\"Critical Point Detection vs Threshold:\")\n",
        "print(\"=\" * 40)\n",
        "for i, threshold in enumerate(thresholds):\n",
        "    cp = critical_points[i]\n",
        "    print(f\"Threshold = {threshold}:\")\n",
        "    print(f\"  PR critical: {cp['has_pr_critical']}\")\n",
        "    print(f\"  Gini critical: {cp['has_gini_critical']}\")\n",
        "    print(f\"  Entropy critical: {cp['has_entropy_critical']}\")\n",
        "    if cp['has_pr_critical']:\n",
        "        print(f\"  N_c (PR): {cp.get('N_c_pr', 'N/A')}\")\n",
        "    print()"
      ]
    },
    {
      "cell_type": "markdown",
      "metadata": {
        "id": "conclusions"
      },
      "source": [
        "## Key Insights\n",
        "\n",
        "1. **Mode Crowding**: As capacity N decreases, occupancy crowds into highest utility modes\n",
        "2. **Phase Transition**: Sharp transitions occur at critical capacity N_c\n",
        "3. **Scaling**: More modes (larger K) → more dramatic crowding effects\n",
        "4. **Utility Structure**: Spaced vs random utilities show different crowding patterns\n",
        "\n",
        "## Physical Interpretation\n",
        "\n",
        "- **Computational Modes**: Different \"computational pathways\" or \"degrees of freedom\"\n",
        "- **Capacity Constraint**: Limited \"computational resources\" force selection\n",
        "- **Critical Points**: Phase transitions in computational efficiency\n",
        "- **Crowding**: Resource scarcity forces concentration into optimal modes\n",
        "\n",
        "## Potential Applications\n",
        "\n",
        "- **Information Processing**: Limited bandwidth forces mode selection\n",
        "- **Quantum Systems**: Energy constraints limit accessible states\n",
        "- **Neural Networks**: Capacity bottlenecks in deep learning\n",
        "\n",
        "**Note**: This is a mathematical model requiring physical validation!"
      ]
    }
  ],
  "metadata": {
    "colab": {
      "provenance": []
    },
    "kernelspec": {
      "display_name": "Python 3",
      "name": "python3"
    },
    "language_info": {
      "name": "python"
    }
  },
  "nbformat": 4,
  "nbformat_minor": 0
}
