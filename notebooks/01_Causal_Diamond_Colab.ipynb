{
  "cells": [
    {
      "cell_type": "markdown",
      "metadata": {
        "id": "view-in-github",
        "colab_type": "text"
      },
      "source": [
        "<a href=\"https://colab.research.google.com/github/robbybrodie/time_as_computation_cost/blob/main/notebooks/01_Causal_Diamond_Colab.ipynb\" target=\"_parent\"><img src=\"https://colab.research.google.com/assets/colab-badge.svg\" alt=\"Open In Colab\"/></a>"
      ]
    },
    {
      "cell_type": "markdown",
      "metadata": {
        "id": "title"
      },
      "source": [
        "# Causal Diamond Experiment\n",
        "\n",
        "This notebook explores lightcone/diamond lattice construction and propagation dynamics.\n",
        "\n",
        "## Theory\n",
        "\n",
        "- **Lattice Structure**: Nodes at (t,x) where |x| ≤ t ≤ D\n",
        "- **Edges**: (t,x) → (t+1, x±1) (light cone propagation)\n",
        "- **Capacity Gradient**: N(t,x) = clip(1 - α*(|x|+t)/D, 0, 1)\n",
        "- **Propagation**: Random walks weighted by node capacity"
      ]
    },
    {
      "cell_type": "markdown",
      "metadata": {
        "id": "setup"
      },
      "source": [
        "## Setup"
      ]
    },
    {
      "cell_type": "code",
      "execution_count": null,
      "metadata": {
        "id": "bootstrap"
      },
      "outputs": [],
      "source": [
        "# Colab bootstrap\n",
        "REPO_URL = \"https://github.com/robbybrodie/time_as_computation_cost.git\"\n",
        "REPO_NAME = \"time_as_computation_cost\"\n",
        "\n",
        "import pathlib\n",
        "if not pathlib.Path(REPO_NAME).exists():\n",
        "    !git clone $REPO_URL\n",
        "%cd $REPO_NAME\n",
        "\n",
        "if pathlib.Path(\"pyproject.toml\").exists():\n",
        "    !pip install -e ."
      ]
    },
    {
      "cell_type": "code",
      "execution_count": null,
      "metadata": {
        "id": "imports"
      },
      "outputs": [],
      "source": [
        "from experiments.run_causal_diamond import main\n",
        "import matplotlib.pyplot as plt\n",
        "import numpy as np\n",
        "from pathlib import Path\n",
        "import sys\n",
        "\n",
        "# Ensure we can import the modules\n",
        "repo_root = Path().resolve()\n",
        "sys.path.insert(0, str(repo_root / \"src\"))\n",
        "\n",
        "from tacc.lattices.diamond import run_demo, run_experiment"
      ]
    },
    {
      "cell_type": "markdown",
      "metadata": {
        "id": "basic_experiment"
      },
      "source": [
        "## Basic Experiment"
      ]
    },
    {
      "cell_type": "code",
      "execution_count": null,
      "metadata": {
        "id": "run_basic"
      },
      "outputs": [],
      "source": [
        "# Run the basic experiment\n",
        "results = main()\n",
        "\n",
        "print(\"Experiment completed successfully!\")\n",
        "print(f\"Node count: {results['metrics']['node_count']}\")\n",
        "print(f\"Edge count: {results['metrics']['edge_count']}\")\n",
        "print(f\"Paths to top: {results['metrics']['actual_paths_top']} (theoretical: {results['metrics']['theoretical_paths_top']})\")"
      ]
    },
    {
      "cell_type": "markdown",
      "metadata": {
        "id": "interactive_demo"
      },
      "source": [
        "## Interactive Demo"
      ]
    },
    {
      "cell_type": "code",
      "execution_count": null,
      "metadata": {
        "id": "demo_plot"
      },
      "outputs": [],
      "source": [
        "# Create and display demo visualization\n",
        "fig = run_demo(depth=8, alpha=0.15, show_front=True)\n",
        "plt.show()"
      ]
    },
    {
      "cell_type": "markdown",
      "metadata": {
        "id": "parameter_exploration"
      },
      "source": [
        "## Parameter Exploration"
      ]
    },
    {
      "cell_type": "code",
      "execution_count": null,
      "metadata": {
        "id": "explore_alpha"
      },
      "outputs": [],
      "source": [
        "# Explore different alpha values\n",
        "alphas = [0.0, 0.1, 0.2, 0.5]\n",
        "depth = 8\n",
        "\n",
        "fig, axes = plt.subplots(2, 2, figsize=(15, 12))\n",
        "axes = axes.flatten()\n",
        "\n",
        "for i, alpha in enumerate(alphas):\n",
        "    # Run experiment for this alpha\n",
        "    exp_results = run_experiment(depth=depth, alpha=alpha)\n",
        "    \n",
        "    # Plot front profile\n",
        "    times = exp_results['front_data']['times']\n",
        "    mean_pos = exp_results['front_data']['mean_positions']\n",
        "    std_pos = exp_results['front_data']['std_positions']\n",
        "    \n",
        "    axes[i].plot(times, mean_pos, 'b-', linewidth=2, label='Mean |x|')\n",
        "    axes[i].fill_between(times, \n",
        "                        np.array(mean_pos) - np.array(std_pos),\n",
        "                        np.array(mean_pos) + np.array(std_pos),\n",
        "                        alpha=0.3)\n",
        "    \n",
        "    # Theoretical expectation\n",
        "    theoretical = np.sqrt(np.array(times) * 0.5)\n",
        "    axes[i].plot(times, theoretical, 'r--', alpha=0.7, label='Theoretical sqrt(t/2)')\n",
        "    \n",
        "    axes[i].set_title(f'α = {alpha} (deviation: {exp_results[\"metrics\"][\"front_symmetry_deviation\"]:.3f})')\n",
        "    axes[i].set_xlabel('Time t')\n",
        "    axes[i].set_ylabel('Mean |x|')\n",
        "    axes[i].legend()\n",
        "    axes[i].grid(True, alpha=0.3)\n",
        "\n",
        "plt.tight_layout()\n",
        "plt.show()"
      ]
    },
    {
      "cell_type": "markdown",
      "metadata": {
        "id": "depth_scaling"
      },
      "source": [
        "## Depth Scaling Analysis"
      ]
    },
    {
      "cell_type": "code",
      "execution_count": null,
      "metadata": {
        "id": "scaling_analysis"
      },
      "outputs": [],
      "source": [
        "# Analyze how metrics scale with depth\n",
        "depths = [5, 8, 10, 12]\n",
        "alpha = 0.1\n",
        "\n",
        "node_counts = []\n",
        "edge_counts = []\n",
        "path_counts = []\n",
        "theoretical_paths = []\n",
        "\n",
        "for depth in depths:\n",
        "    exp_results = run_experiment(depth=depth, alpha=alpha)\n",
        "    node_counts.append(exp_results['metrics']['node_count'])\n",
        "    edge_counts.append(exp_results['metrics']['edge_count'])\n",
        "    path_counts.append(exp_results['metrics']['actual_paths_top'])\n",
        "    theoretical_paths.append(exp_results['metrics']['theoretical_paths_top'])\n",
        "\n",
        "# Plot scaling relationships\n",
        "fig, ((ax1, ax2), (ax3, ax4)) = plt.subplots(2, 2, figsize=(12, 10))\n",
        "\n",
        "# Node count scaling\n",
        "ax1.plot(depths, node_counts, 'bo-', linewidth=2, markersize=8)\n",
        "# Theoretical: nodes = (D+1)^2 approximately\n",
        "theoretical_nodes = [(d+1)**2 for d in depths]\n",
        "ax1.plot(depths, theoretical_nodes, 'r--', alpha=0.7, label='~D²')\n",
        "ax1.set_xlabel('Depth D')\n",
        "ax1.set_ylabel('Node Count')\n",
        "ax1.set_title('Node Count vs Depth')\n",
        "ax1.legend()\n",
        "ax1.grid(True, alpha=0.3)\n",
        "\n",
        "# Edge count scaling\n",
        "ax2.plot(depths, edge_counts, 'go-', linewidth=2, markersize=8)\n",
        "ax2.set_xlabel('Depth D')\n",
        "ax2.set_ylabel('Edge Count')\n",
        "ax2.set_title('Edge Count vs Depth')\n",
        "ax2.grid(True, alpha=0.3)\n",
        "\n",
        "# Path count comparison\n",
        "ax3.semilogy(depths, path_counts, 'ro-', linewidth=2, markersize=8, label='Actual')\n",
        "ax3.semilogy(depths, theoretical_paths, 'b--', linewidth=2, label='Theoretical ~2^D')\n",
        "ax3.set_xlabel('Depth D')\n",
        "ax3.set_ylabel('Path Count (log scale)')\n",
        "ax3.set_title('Path Scaling')\n",
        "ax3.legend()\n",
        "ax3.grid(True, alpha=0.3)\n",
        "\n",
        "# Node/edge ratio\n",
        "ratios = [e/n for e, n in zip(edge_counts, node_counts)]\n",
        "ax4.plot(depths, ratios, 'mo-', linewidth=2, markersize=8)\n",
        "ax4.set_xlabel('Depth D')\n",
        "ax4.set_ylabel('Edge/Node Ratio')\n",
        "ax4.set_title('Graph Density')\n",
        "ax4.grid(True, alpha=0.3)\n",
        "\n",
        "plt.tight_layout()\n",
        "plt.show()\n",
        "\n",
        "print(\"Scaling Summary:\")\n",
        "for i, depth in enumerate(depths):\n",
        "    print(f\"D={depth}: {node_counts[i]} nodes, {edge_counts[i]} edges, {path_counts[i]} paths\")"
      ]
    },
    {
      "cell_type": "markdown",
      "metadata": {
        "id": "conclusions"
      },
      "source": [
        "## Key Insights\n",
        "\n",
        "1. **Lattice Growth**: Node count scales as ~D², edge count scales similarly\n",
        "2. **Path Explosion**: Path count grows exponentially with depth\n",
        "3. **Capacity Effect**: Higher α reduces front spreading (more constraint)\n",
        "4. **Random Walk**: Front profile follows √t scaling as expected\n",
        "\n",
        "## Physical Interpretation\n",
        "\n",
        "- **Computational Capacity N(t,x)**: Controls \"computational resources\" available at spacetime point\n",
        "- **Front Propagation**: Information/computation spreading through spacetime\n",
        "- **Critical Points**: Could represent phase transitions in computational capacity\n",
        "\n",
        "**Note**: This is a mathematical model without established physics foundation!"
      ]
    }
  ],
  "metadata": {
    "colab": {
      "provenance": []
    },
    "kernelspec": {
      "display_name": "Python 3",
      "name": "python3"
    },
    "language_info": {
      "name": "python"
    }
  },
  "nbformat": 4,
  "nbformat_minor": 0
}
