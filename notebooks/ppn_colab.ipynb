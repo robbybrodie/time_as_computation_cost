{
 "cells": [
  {
   "cell_type": "markdown",
   "metadata": {
    "id": "view-in-github",
    "colab_type": "text"
   },
   "source": [
    "<a href=\"https://colab.research.google.com/github/robbybrodie/time_as_computation_cost/blob/main/notebooks/ppn_colab.ipynb\" target=\"_parent\"><img src=\"https://colab.research.google.com/assets/colab-badge.svg\" alt=\"Open In Colab\"/></a>"
   ]
  },
  {
   "cell_type": "markdown",
   "metadata": {
    "id": "title"
   },
   "source": [
    "# PPN Parameter Extraction Experiment\n",
    "\n",
    "## Experiment Rationale\n",
    "\n",
    "**Why This Experiment Exists:** This is the \"sanity check\" experiment for the TACC framework. Post-Newtonian Parameters (PPN) are the standard toolkit physicists use to test new theories of gravity against Einstein's General Relativity in weak gravitational fields.\n",
    "\n",
    "**What It Tests:** Can the TACC model reproduce the correct PPN parameters (γ, β) that match observations? If our computational-capacity metric can't give the right PPN values for known solar system tests, the entire model is fundamentally flawed.\n",
    "\n",
    "**Why It's Essential:** This is like making sure your ruler measures a meter as a meter before building a bridge. PPN parameters directly connect our abstract metric formulation to precise, well-measured observational quantities. Every alternative theory of gravity must pass this test.\n",
    "\n",
    "**Expected Result:** Our model predicts γ = κ/2 and β = 1 (always). Setting κ = 2 should recover Einstein's values (γ = β = 1), while other κ values predict observable deviations.\n",
    "\n",
    "This experiment extracts Post-Newtonian Parameter (PPN) γ and β from our computational-capacity metric and compares against General Relativity predictions."
   ]
  },
  {
   "cell_type": "markdown",
   "metadata": {
    "id": "theory"
   },
   "source": [
    "## Theory\n",
    "\n",
    "### Post-Newtonian Parameters\n",
    "- **γ**: Measures space curvature produced by unit rest mass\n",
    "- **β**: Measures nonlinearity in superposition law for gravity\n",
    "- **General Relativity**: γ = β = 1 exactly\n",
    "\n",
    "### TACC Model Mapping\n",
    "- **Constitutive Law**: `B(N) = exp[-κ(1-N)]` where κ controls deviation from GR\n",
    "- **PPN Extraction**: From metric coefficients in weak field limit\n",
    "- **Our Results**: γ = κ/2, β = 1 (always)\n",
    "- **GR Recovery**: κ = 2 gives exact Einstein values\n",
    "\n",
    "### Physical Interpretation\n",
    "The parameter κ controls how strongly computational capacity affects spacetime geometry. Near κ=2, the model behaves like General Relativity, while other values predict observable deviations."
   ]
  },
  {
   "cell_type": "markdown",
   "metadata": {
    "id": "setup"
   },
   "source": [
    "## Setup: Clone Repository and Install Dependencies"
   ]
  },
  {
   "cell_type": "code",
   "execution_count": null,
   "metadata": {
    "id": "bootstrap"
   },
   "outputs": [],
   "source": [
    "# Clone and setup (idempotent with forced refresh)\n",
    "import os, sys, subprocess, shutil, pathlib\n",
    "REPO_URL = \"https://github.com/robbybrodie/time_as_computation_cost.git\"\n",
    "REPO_NAME = \"time_as_computation_cost\"\n",
    "\n",
    "# Force fresh clone to avoid caching issues\n",
    "if pathlib.Path(REPO_NAME).exists():\n",
    "    !rm -rf $REPO_NAME\n",
    "    \n",
    "!git clone $REPO_URL\n",
    "\n",
    "%cd $REPO_NAME\n",
    "\n",
    "# Install package\n",
    "if (pathlib.Path(\"pyproject.toml\")).exists():\n",
    "    !pip install -e .\n",
    "\n",
    "# Set random seed for reproducibility\n",
    "import numpy as np, random\n",
    "np.random.seed(42)\n",
    "random.seed(42)"
   ]
  },
  {
   "cell_type": "markdown",
   "metadata": {
    "id": "experiment"
   },
   "source": [
    "## Run PPN Parameter Extraction"
   ]
  },
  {
   "cell_type": "code",
   "execution_count": null,
   "metadata": {
    "id": "run_experiment"
   },
   "outputs": [],
   "source": [
    "from experiments.run_ppn import main\n",
    "main()"
   ]
  },
  {
   "cell_type": "markdown",
   "metadata": {
    "id": "display"
   },
   "source": [
    "## Display Results"
   ]
  },
  {
   "cell_type": "code",
   "execution_count": null,
   "metadata": {
    "id": "display_results"
   },
   "outputs": [],
   "source": [
    "from IPython.display import Image, display\n",
    "from pathlib import Path\n",
    "\n",
    "# Display generated plots\n",
    "output_dir = Path(\"experiments/out/ppn\")\n",
    "\n",
    "print(\"PPN Parameters vs Constitutive Parameter κ:\")\n",
    "display(Image(str(output_dir / \"ppn_parameters.png\")))\n",
    "\n",
    "print(\"\\nN to Newtonian Potential Mapping:\")\n",
    "display(Image(str(output_dir / \"n_to_phi_mapping.png\")))\n",
    "\n",
    "print(\"\\nSpecial Relativity Limit Test:\")\n",
    "display(Image(str(output_dir / \"sr_limit.png\")))\n",
    "\n",
    "print(\"\\nConstitutive Law B(N) for Different κ:\")\n",
    "display(Image(str(output_dir / \"constitutive_law.png\")))\n",
    "\n",
    "# Display numerical results\n",
    "print(\"\\nNumerical Results:\")\n",
    "with open(output_dir / \"results.txt\", 'r') as f:\n",
    "    print(f.read())"
   ]
  },
  {
   "cell_type": "markdown",
   "metadata": {
    "id": "params"
   },
   "source": [
    "## Optional: Interactive Parameter Exploration"
   ]
  },
  {
   "cell_type": "code",
   "execution_count": null,
   "metadata": {
    "id": "interactive"
   },
   "outputs": [],
   "source": [
    "# Interactive exploration of the constitutive law\n",
    "import numpy as np\n",
    "import matplotlib.pyplot as plt\n",
    "from tacc import ppn, constitutive\n",
    "\n",
    "# Widget for interactive exploration (works in Colab)\n",
    "def explore_kappa(kappa_value=2.0):\n",
    "    \"\"\"Explore different kappa values\"\"\"\n",
    "    \n",
    "    # Extract PPN parameters\n",
    "    gamma, beta = ppn.extract_ppn_params(kappa_value)\n",
    "    \n",
    "    print(f\"κ = {kappa_value:.2f}\")\n",
    "    print(f\"γ = {gamma:.4f} (GR: 1.0000)\")\n",
    "    print(f\"β = {beta:.4f} (GR: 1.0000)\")\n",
    "    print(f\"Deviation from GR: Δγ = {abs(gamma-1.0):.4f}, Δβ = {abs(beta-1.0):.4f}\")\n",
    "    \n",
    "    # Plot constitutive law\n",
    "    N_range = np.linspace(0.5, 2.0, 200)\n",
    "    B_values = constitutive.B_of_N(N_range, kappa_value)\n",
    "    \n",
    "    plt.figure(figsize=(10, 6))\n",
    "    plt.subplot(1, 2, 1)\n",
    "    plt.plot(N_range, B_values, 'b-', linewidth=2, label=f'κ={kappa_value}')\n",
    "    plt.axvline(x=1.0, color='k', linestyle=':', alpha=0.7, label='N=1 (GR limit)')\n",
    "    plt.axhline(y=1.0, color='k', linestyle=':', alpha=0.7)\n",
    "    plt.xlabel('N (Computational Capacity)')\n",
    "    plt.ylabel('B(N) = exp[-κ(1-N)]')\n",
    "    plt.title(f'Constitutive Law (κ={kappa_value})')\n",
    "    plt.legend()\n",
    "    plt.grid(True, alpha=0.3)\n",
    "    \n",
    "    # Plot PPN parameter relationship\n",
    "    kappa_range = np.linspace(0.5, 4.0, 100)\n",
    "    gamma_range = kappa_range / 2  # γ = κ/2\n",
    "    \n",
    "    plt.subplot(1, 2, 2)\n",
    "    plt.plot(kappa_range, gamma_range, 'r-', linewidth=2, label='γ = κ/2')\n",
    "    plt.axhline(y=1.0, color='k', linestyle='--', alpha=0.7, label='GR (γ=1)')\n",
    "    plt.axvline(x=kappa_value, color='b', linestyle=':', alpha=0.7, label=f'Current κ={kappa_value}')\n",
    "    plt.scatter([kappa_value], [gamma], color='red', s=100, zorder=10)\n",
    "    plt.xlabel('κ (Constitutive Parameter)')\n",
    "    plt.ylabel('γ (PPN Parameter)')\n",
    "    plt.title('PPN γ vs κ Relationship')\n",
    "    plt.legend()\n",
    "    plt.grid(True, alpha=0.3)\n",
    "    \n",
    "    plt.tight_layout()\n",
    "    plt.show()\n",
    "\n",
    "# Try different values\n",
    "print(\"Exploring different κ values:\")\n",
    "for kappa in [0.5, 1.0, 1.5, 2.0, 2.5, 3.0]:\n",
    "    explore_kappa(kappa)\n",
    "    print(\"\\n\" + \"=\"*50 + \"\\n\")"
   ]
  },
  {
   "cell_type": "markdown",
   "metadata": {
    "id": "interactive_setup"
   },
   "source": [
    "## Interactive Setup"
   ]
  },
  {
   "cell_type": "code",
   "execution_count": null,
   "metadata": {
    "id": "setup_interactive"
   },
   "outputs": [],
   "source": [
    "# Setup for comprehensive interactive analysis\n",
    "import numpy as np, matplotlib.pyplot as plt\n",
    "from pathlib import Path\n",
    "import sys\n",
    "\n",
    "# Ensure we can import modules\n",
    "repo_root = Path().resolve()\n",
    "sys.path.insert(0, str(repo_root / \"src\"))\n",
    "\n",
    "from tacc import ppn, constitutive\n",
    "from experiments.run_ppn import main\n",
    "\n",
    "print(\"Interactive PPN analysis modules loaded successfully!\")"
   ]
  },
  {
   "cell_type": "markdown",
   "metadata": {
    "id": "parameter_space"
   },
   "source": [
    "## κ Parameter Space Exploration"
   ]
  },
  {
   "cell_type": "code",
   "execution_count": null,
   "metadata": {
    "id": "explore_parameter_space"
   },
   "outputs": [],
   "source": [
    "def comprehensive_kappa_analysis():\n",
    "    \"\"\"Comprehensive analysis of κ parameter space\"\"\"\n",
    "    \n",
    "    # Parameter ranges\n",
    "    kappa_range = np.linspace(0.1, 4.0, 200)\n",
    "    N_range = np.linspace(0.5, 1.5, 100)\n",
    "    \n",
    "    # Calculate PPN parameters\n",
    "    gamma_range = kappa_range / 2  # γ = κ/2\n",
    "    beta_range = np.ones_like(kappa_range)  # β = 1 always\n",
    "    \n",
    "    # Create comprehensive visualization\n",
    "    fig, ((ax1, ax2), (ax3, ax4)) = plt.subplots(2, 2, figsize=(15, 12))\n",
    "    \n",
    "    # PPN parameter space\n",
    "    ax1.plot(kappa_range, gamma_range, 'r-', linewidth=2, label='γ = κ/2')\n",
    "    ax1.plot(kappa_range, beta_range, 'b-', linewidth=2, label='β = 1')\n",
    "    ax1.axhline(y=1.0, color='k', linestyle='--', alpha=0.7, label='GR value')\n",
    "    ax1.axvline(x=2.0, color='g', linestyle=':', alpha=0.7, label='κ = 2 (GR)')\n",
    "    ax1.fill_between([1.8, 2.2], 0, 2, alpha=0.1, color='green', label='Near-GR region')\n",
    "    ax1.set_xlabel('κ (Constitutive Parameter)')\n",
    "    ax1.set_ylabel('PPN Parameters')\n",
    "    ax1.set_title('PPN Parameter Space')\n",
    "    ax1.legend()\n",
    "    ax1.grid(True, alpha=0.3)\n",
    "    ax1.set_ylim([0, 2])\n",
    "    \n",
    "    # Constitutive law comparison\n",
    "    colors = ['red', 'blue', 'green', 'orange', 'purple']\n",
    "    kappa_values = [0.5, 1.0, 2.0, 3.0, 4.0]\n",
    "    \n",
    "    for i, kappa in enumerate(kappa_values):\n",
    "        B_values = constitutive.B_of_N(N_range, kappa)\n",
    "        ax2.plot(N_range, B_values, color=colors[i], linewidth=2, \n",
    "                label=f'κ={kappa} (γ={kappa/2:.1f})')\n",
    "    \n",
    "    ax2.axvline(x=1.0, color='k', linestyle='--', alpha=0.7, label='N=1')\n",
    "    ax2.axhline(y=1.0, color='k', linestyle='--', alpha=0.7)\n",
    "    ax2.set_xlabel('N (Computational Capacity)')\n",
    "    ax2.set_ylabel('B(N) = exp[-κ(1-N)]')\n",
    "    ax2.set_title('Constitutive Law Comparison')\n",
    "    ax2.legend()\n",
    "    ax2.grid(True, alpha=0.3)\n",
    "    \n",
    "    # Deviation from GR\n",
    "    delta_gamma = np.abs(gamma_range - 1.0)\n",
    "    delta_beta = np.abs(beta_range - 1.0)\n",
    "    \n",
    "    ax3.semilogy(kappa_range, delta_gamma, 'r-', linewidth=2, label='|Δγ| = |γ - 1|')\n",
    "    ax3.semilogy(kappa_range, delta_beta, 'b-', linewidth=2, label='|Δβ| = |β - 1|')\n",
    "    ax3.axvline(x=2.0, color='g', linestyle=':', alpha=0.7, label='κ = 2 (GR)')\n",
    "    ax3.set_xlabel('κ (Constitutive Parameter)')\n",
    "    ax3.set_ylabel('|Deviation from GR| (log scale)')\n",
    "    ax3.set_title('GR Deviation Analysis')\n",
    "    ax3.legend()\n",
    "    ax3.grid(True, alpha=0.3)\n",
    "    \n",
    "    # Observable effects scaling\n",
    "    # Light bending scales as (1+γ)/2\n",
    "    # Shapiro delay scales as (1+γ)/2\n",
    "    # Mercury precession scales as (2+2γ-β)/3\n",
    "    \n",
    "    light_bending_factor = (1 + gamma_range) / 2\n",
    "    shapiro_factor = (1 + gamma_range) / 2\n",
    "    mercury_factor = (2 + 2*gamma_range - beta_range) / 3\n",
    "    \n",
    "    ax4.plot(kappa_range, light_bending_factor, 'r-', linewidth=2, label='Light bending ∝ (1+γ)/2')\n",
    "    ax4.plot(kappa_range, shapiro_factor, 'b-', linewidth=2, label='Shapiro delay ∝ (1+γ)/2')\n",
    "    ax4.plot(kappa_range, mercury_factor, 'g-', linewidth=2, label='Mercury precession ∝ (2+2γ-β)/3')\n",
    "    ax4.axhline(y=1.0, color='k', linestyle='--', alpha=0.7, label='GR value')\n",
    "    ax4.axvline(x=2.0, color='k', linestyle=':', alpha=0.7, label='κ = 2 (GR)')\n",
    "    ax4.set_xlabel('κ (Constitutive Parameter)')\n",
    "    ax4.set_ylabel('Observable Effect Scaling')\n",
    "    ax4.set_title('Solar System Test Predictions')\n",
    "    ax4.legend()\n",
    "    ax4.grid(True, alpha=0.3)\n",
    "    \n",
    "    plt.tight_layout()\n",
    "    plt.show()\n",
    "    \n",
    "    # Print key insights\n",
    "    print(\"Key Parameter Space Insights:\")\n",
    "    print(f\"  • γ = κ/2 relationship is exact\")\n",
    "    print(f\"  • β = 1 always (built into theory)\")\n",
    "    print(f\"  • GR recovery: κ = 2 → γ = 1, β = 1\")\n",
    "    print(f\"  • Strong field limit: κ >> 2 → γ >> 1\")\n",
    "    print(f\"  • Weak field limit: κ << 2 → γ << 1\")\n",
    "    \n",
    "    print(\"\\nObservational Constraints:\")\n",
    "    print(f\"  • Cassini (γ): 1 + (2.1 ± 2.3) × 10⁻⁵ → κ ≈ 2.000 ± 0.000\")\n",
    "    print(f\"  • LLR (β): 1 + (-1.6 ± 1.8) × 10⁻⁴ → automatically satisfied\")\n",
    "    print(f\"  • Solar system tests strongly constrain κ ≈ 2\")\n",
    "\n",
    "print(\"Running comprehensive κ parameter analysis:\")\n",
    "comprehensive_kappa_analysis()"
   ]
  },
  {
   "cell_type": "markdown",
   "metadata": {
    "id": "observational_constraints"
   },
   "source": [
    "## Observational Constraints Analysis"
   ]
  },
  {
   "cell_type": "code",
   "execution_count": null,
   "metadata": {
    "id": "constraints_analysis"
   },
   "outputs": [],
   "source": [
    "def observational_constraints_analysis():\n",
    "    \"\"\"Analysis of observational constraints on κ\"\"\"\n",
    "    \n",
    "    # Modern experimental constraints on PPN parameters\n",
    "    constraints = {\n",
    "        'Cassini γ': {'value': 1.0, 'error': 2.3e-5, 'source': 'Bertotti et al. (2003)'},\n",
    "        'LLR β': {'value': 1.0, 'error': 1.8e-4, 'source': 'Williams et al. (2004)'},\n",
    "        'LLR γ': {'value': 1.0, 'error': 4.4e-4, 'source': 'Williams et al. (2004)'},\n",
    "        'VLBI γ': {'value': 1.0, 'error': 4e-4, 'source': 'Lambert & Le Poncin-Lafitte (2009)'},\n",
    "        'Hipparcos γ': {'value': 1.0, 'error': 3e-3, 'source': 'Froeschlé et al. (1997)'}\n",
    "    }\n",
    "    \n",
    "    # Convert constraints to κ space (γ = κ/2, so κ = 2γ)\n",
    "    kappa_constraints = {}\n",
    "    for name, data in constraints.items():\n",
    "        if 'γ' in name:\n",
    "            kappa_constraints[name] = {\n",
    "                'value': 2 * data['value'],  # κ = 2γ\n",
    "                'error': 2 * data['error'],  # Δκ = 2Δγ\n",
    "                'source': data['source']\n",
    "            }\n",
    "    \n",
    "    # Create constraint visualization\n",
    "    fig, ((ax1, ax2), (ax3, ax4)) = plt.subplots(2, 2, figsize=(15, 12))\n",
    "    \n",
    "    # γ constraints\n",
    "    gamma_range = np.linspace(0.9, 1.1, 1000)\n",
    "    colors = ['red', 'blue', 'green', 'orange', 'purple']\n",
    "    \n",
    "    for i, (name, data) in enumerate([item for item in constraints.items() if 'γ' in item[0]]):\n",
    "        # Gaussian constraint\n",
    "        constraint = np.exp(-0.5 * ((gamma_range - data['value']) / data['error'])**2)\n",
    "        ax1.plot(gamma_range, constraint, color=colors[i], linewidth=2, label=name)\n",
    "        # 1-σ region\n",
    "        ax1.fill_between([data['value'] - data['error'], data['value'] + data['error']], \n",
    "                        0, 1.1, alpha=0.2, color=colors[i])\n",
    "    \n",
    "    ax1.axvline(x=1.0, color='k', linestyle='--', alpha=0.7, label='GR (γ=1)')\n",
    "    ax1.set_xlabel('γ (PPN Parameter)')\n",
    "    ax1.set_ylabel('Constraint Likelihood')\n",
    "    ax1.set_title('Observational Constraints on γ')\n",
    "    ax1.legend()\n",
    "    ax1.grid(True, alpha=0.3)\n",
    "    ax1.set_xlim([0.99, 1.01])\n",
    "    \n",
    "    # κ constraints (derived from γ constraints)\n",
    "    kappa_range = np.linspace(1.8, 2.2, 1000)\n",
    "    \n",
    "    for i, (name, data) in enumerate(kappa_constraints.items()):\n",
    "        # Gaussian constraint\n",
    "        constraint = np.exp(-0.5 * ((kappa_range - data['value']) / data['error'])**2)\n",
    "        ax2.plot(kappa_range, constraint, color=colors[i], linewidth=2, label=name)\n",
    "        # 1-σ region\n",
    "        ax2.fill_between([data['value'] - data['error'], data['value'] + data['error']], \n",
    "                        0, 1.1, alpha=0.2, color=colors[i])\n",
    "    \n",
    "    ax2.axvline(x=2.0, color='k', linestyle='--', alpha=0.7, label='GR (κ=2)')\n",
    "    ax2.set_xlabel('κ (Constitutive Parameter)')\n",
    "    ax2.set_ylabel('Constraint Likelihood')\n",
    "    ax2.set_title('Observational Constraints on κ')\n",
    "    ax2.legend()\n",
    "    ax2.grid(True, alpha=0.3)\n",
    "    ax2.set_xlim([1.98, 2.02])\n",
    "    \n",
    "    # Combined constraint (multiply likelihoods)\n",
    "    combined_constraint = np.ones_like(kappa_range)\n",
    "    for name, data in kappa_constraints.items():\n",
    "        constraint = np.exp(-0.5 * ((kappa_range - data['value']) / data['error'])**2)\n",
    "        combined_constraint *= constraint\n",
    "    \n",
    "    # Normalize\n",
    "    combined_constraint /= np.max(combined_constraint)\n",
    "    \n",
    "    ax3.plot(kappa_range, combined_constraint, 'k-', linewidth=3, label='Combined constraint')\n",
    "    ax3.axvline(x=2.0, color='r', linestyle='--', alpha=0.7, label='GR (κ=2)')\n",
    "    ax3.fill_between(kappa_range, 0, combined_constraint, alpha=0.3, color='blue')\n",
    "    ax3.set_xlabel('κ (Constitutive Parameter)')\n",
    "    ax3.set_ylabel('Combined Constraint Likelihood')\n",
    "    ax3.set_title('Combined Observational Constraints')\n",
    "    ax3.legend()\n",
    "    ax3.grid(True, alpha=0.3)\n",
    "    \n",
    "    # Constraint strength comparison\n",
    "    constraint_names = list(kappa_constraints.keys())\n",
    "    constraint_errors = [data['error'] for data in kappa_constraints.values()]\n",
    "    \n",
    "    bars = ax4.barh(range(len(constraint_names)), constraint_errors, color=colors[:len(constraint_names)])\n",
    "    ax4.set_yticks(range(len(constraint_names)))\n",
    "    ax4.set_yticklabels(constraint_names)\n",
    "    ax4.set_xlabel('Constraint Precision (Δκ)')\n",
    "    ax4.set_title('Constraint Precision Comparison')\n",
    "    ax4.set_xscale('log')\n",
    "    ax4.grid(True, alpha=0.3)\n",
    "    \n",
    "    # Add precision values as text\n",
    "    for i, (bar, error) in enumerate(zip(bars, constraint_errors)):\n",
    "        ax4.text(bar.get_width() * 1.1, bar.get_y() + bar.get_height()/2, \n",
    "                f'{error:.0e}', va='center', fontsize=10)\n",
    "    \n",
    "    plt.tight_layout()\n",
    "    plt.show()\n",
    "    \n",
    "    # Calculate best-fit κ and uncertainty\n",
    "    best_fit_idx = np.argmax(combined_constraint)\n",
    "    best_fit_kappa = kappa_range[best_fit_idx]\n",
    "    \n",
    "    # Find 1-σ bounds (where likelihood drops to 1/e)\n",
    "    threshold = np.exp(-0.5)\n",
    "    above_threshold = combined_constraint > threshold\n",
    "    if np.any(above_threshold):\n",
    "        bounds = kappa_range[above_threshold]\n",
    "        kappa_error = (bounds[-1] - bounds[0]) / 2\n",
    "    else:\n",
    "        kappa_error = 0.001  # fallback\n",
    "    \n",
    "    print(f\"Combined Observational Constraint:\")\n",
    "    print(f\"  κ = {best_fit_kappa:.6f} ± {kappa_error:.6f}\")\n",
    "    print(f\"  Corresponding γ = {best_fit_kappa/2:.6f} ± {kappa_error/2:.6f}\")\n",
    "    print(f\"  Constraint precision: {kappa_error/best_fit_kappa*100:.4f}%\")\n",
    "\n",
    "print(\"Running observational constraints analysis:\")\n",
    "observational_constraints_analysis()"
   ]
  },
  {
   "cell_type": "markdown",
   "metadata": {
    "id": "insights"
   },
   "source": [
    "## Key Insights\n",
    "\n",
    "1. **Exact PPN Mapping**: Our model gives γ = κ/2 and β = 1 exactly, providing clear experimental predictions\n",
    "\n",
    "2. **GR Recovery**: Setting κ = 2 recovers Einstein's General Relativity with γ = β = 1\n",
    "\n",
    "3. **Observational Constraints**: Modern experiments constrain κ ≈ 2.000000 with extremely high precision\n",
    "\n",
    "4. **Physical Interpretation**: κ controls how strongly computational capacity affects spacetime geometry\n",
    "\n",
    "5. **Testable Predictions**: Any κ ≠ 2 would produce observable deviations in solar system tests\n",
    "\n",
    "## Physical Interpretation\n",
    "\n",
    "- **κ Parameter**: Controls strength of computational capacity effects on spacetime\n",
    "- **N → Φ Mapping**: Computational capacity relates to gravitational potential\n",
    "- **Constitutive Law**: B(N) = exp[-κ(1-N)] determines metric deformation\n",
    "- **Weak Field Limit**: Near N=1, theory reduces to standard PPN formalism\n",
    "\n",
    "**Note**: This is a conceptual framework - κ=2 is required by observations, not predicted from first principles!"
   ]
  },
  {
   "cell_type": "markdown",
   "metadata": {
    "id": "troubleshooting"
   },
   "source": [
    "## Troubleshooting\n",
    "\n",
    "**Common Issues:**\n",
    "- If plots don't display, ensure matplotlib is installed\n",
    "- Import errors indicate repository cloning issues\n",
    "- **TypeError: only length-1 arrays can be converted to Python scalars**: This error occurs when Colab caches an old version of the repository. The setup cell above now forces a fresh clone to avoid this issue. If you still see this error, restart the runtime (Runtime → Restart runtime) and run all cells again.\n",
    "\n",
    "**Expected Output:**\n",
    "- Comprehensive 4-panel parameter space analysis\n",
    "- Observational constraints visualization with error bars\n",
    "- Combined constraint analysis showing allowed κ values\n",
    "- Quantitative constraint precision comparisons\n",
    "\n",
    "**Key Insights:**\n",
    "- In our model, β=1 always (built into the theory)\n",
    "- γ = κ/2, so κ=2 gives exact GR limit γ=1\n",
    "- The constitutive parameter κ controls the strength of the computational capacity effect\n",
    "- Observational data constrains κ ≈ 2 with extraordinary precision"
   ]
  }
 ],
 "metadata": {
  "colab": {
   "provenance": [],
   "include_colab_link": true
  },
  "kernelspec": {
   "display_name": "Python 3",
   "name": "python3"
  },
  "language_info": {
   "name": "python"
  }
 },
 "nbformat": 4,
 "nbformat_minor": 0
}
