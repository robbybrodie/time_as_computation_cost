{
 "cells": [
  {
   "cell_type": "markdown",
   "metadata": {
    "id": "view-in-github",
    "colab_type": "text"
   },
   "source": [
    "<a href=\"https://colab.research.google.com/github/robbybrodie/time_as_computation_cost/blob/main/notebooks/ppn_colab.ipynb\" target=\"_parent\"><img src=\"https://colab.research.google.com/assets/colab-badge.svg\" alt=\"Open In Colab\"/></a>"
   ]
  },
  {
   "cell_type": "markdown",
   "metadata": {
    "id": "title"
   },
   "source": [
    "# PPN Parameter Extraction Experiment\n",
    "\n",
    "This experiment extracts Post-Newtonian Parameter (PPN) γ and β from our computational-capacity metric and compares against General Relativity predictions."
   ]
  },
  {
   "cell_type": "markdown",
   "metadata": {
    "id": "setup"
   },
   "source": [
    "## Setup: Clone Repository and Install Dependencies"
   ]
  },
  {
   "cell_type": "code",
   "execution_count": null,
   "metadata": {
    "id": "bootstrap"
   },
   "outputs": [],
   "source": [
    "# Clone and setup (idempotent with forced refresh)\n",
    "import os, sys, subprocess, shutil, pathlib\n",
    "REPO_URL = \"https://github.com/robbybrodie/time_as_computation_cost.git\"\n",
    "REPO_NAME = \"time_as_computation_cost\"\n",
    "\n",
    "# Force fresh clone to avoid caching issues\n",
    "if pathlib.Path(REPO_NAME).exists():\n",
    "    !rm -rf $REPO_NAME\n",
    "    \n",
    "!git clone $REPO_URL\n",
    "\n",
    "%cd $REPO_NAME\n",
    "\n",
    "# Install package\n",
    "if (pathlib.Path(\"pyproject.toml\")).exists():\n",
    "    !pip install -e .\n",
    "\n",
    "# Set random seed for reproducibility\n",
    "import numpy as np, random\n",
    "np.random.seed(42)\n",
    "random.seed(42)"
   ]
  },
  {
   "cell_type": "markdown",
   "metadata": {
    "id": "experiment"
   },
   "source": [
    "## Run PPN Parameter Extraction"
   ]
  },
  {
   "cell_type": "code",
   "execution_count": null,
   "metadata": {
    "id": "run_experiment"
   },
   "outputs": [],
   "source": [
    "from experiments.run_ppn import main\n",
    "main()"
   ]
  },
  {
   "cell_type": "markdown",
   "metadata": {
    "id": "display"
   },
   "source": [
    "## Display Results"
   ]
  },
  {
   "cell_type": "code",
   "execution_count": null,
   "metadata": {
    "id": "display_results"
   },
   "outputs": [],
   "source": [
    "from IPython.display import Image, display\n",
    "from pathlib import Path\n",
    "\n",
    "# Display generated plots\n",
    "output_dir = Path(\"experiments/out/ppn\")\n",
    "\n",
    "print(\"PPN Parameters vs Constitutive Parameter κ:\")\n",
    "display(Image(str(output_dir / \"ppn_parameters.png\")))\n",
    "\n",
    "print(\"\\nN to Newtonian Potential Mapping:\")\n",
    "display(Image(str(output_dir / \"n_to_phi_mapping.png\")))\n",
    "\n",
    "print(\"\\nSpecial Relativity Limit Test:\")\n",
    "display(Image(str(output_dir / \"sr_limit.png\")))\n",
    "\n",
    "print(\"\\nConstitutive Law B(N) for Different κ:\")\n",
    "display(Image(str(output_dir / \"constitutive_law.png\")))\n",
    "\n",
    "# Display numerical results\n",
    "print(\"\\nNumerical Results:\")\n",
    "with open(output_dir / \"results.txt\", 'r') as f:\n",
    "    print(f.read())"
   ]
  },
  {
   "cell_type": "markdown",
   "metadata": {
    "id": "params"
   },
   "source": [
    "## Optional: Interactive Parameter Exploration"
   ]
  },
  {
   "cell_type": "code",
   "execution_count": null,
   "metadata": {
    "id": "interactive"
   },
   "outputs": [],
   "source": [
    "# Interactive exploration of the constitutive law\n",
    "import numpy as np\n",
    "import matplotlib.pyplot as plt\n",
    "from tacc import ppn, constitutive\n",
    "\n",
    "# Widget for interactive exploration (works in Colab)\n",
    "def explore_kappa(kappa_value=2.0):\n",
    "    \"\"\"Explore different kappa values\"\"\"\n",
    "    \n",
    "    # Extract PPN parameters\n",
    "    gamma, beta = ppn.extract_ppn_params(kappa_value)\n",
    "    \n",
    "    print(f\"κ = {kappa_value:.2f}\")\n",
    "    print(f\"γ = {gamma:.4f} (GR: 1.0000)\")\n",
    "    print(f\"β = {beta:.4f} (GR: 1.0000)\")\n",
    "    print(f\"Deviation from GR: Δγ = {abs(gamma-1.0):.4f}, Δβ = {abs(beta-1.0):.4f}\")\n",
    "    \n",
    "    # Plot constitutive law\n",
    "    N_range = np.linspace(0.5, 2.0, 200)\n",
    "    B_values = constitutive.B_of_N(N_range, kappa_value)\n",
    "    \n",
    "    plt.figure(figsize=(10, 6))\n",
    "    plt.subplot(1, 2, 1)\n",
    "    plt.plot(N_range, B_values, 'b-', linewidth=2, label=f'κ={kappa_value}')\n",
    "    plt.axvline(x=1.0, color='k', linestyle=':', alpha=0.7, label='N=1 (GR limit)')\n",
    "    plt.axhline(y=1.0, color='k', linestyle=':', alpha=0.7)\n",
    "    plt.xlabel('N (Computational Capacity)')\n",
    "    plt.ylabel('B(N) = exp[-κ(1-N)]')\n",
    "    plt.title(f'Constitutive Law (κ={kappa_value})')\n",
    "    plt.legend()\n",
    "    plt.grid(True, alpha=0.3)\n",
    "    \n",
    "    # Plot PPN parameter relationship\n",
    "    kappa_range = np.linspace(0.5, 4.0, 100)\n",
    "    gamma_range = kappa_range / 2  # γ = κ/2\n",
    "    \n",
    "    plt.subplot(1, 2, 2)\n",
    "    plt.plot(kappa_range, gamma_range, 'r-', linewidth=2, label='γ = κ/2')\n",
    "    plt.axhline(y=1.0, color='k', linestyle='--', alpha=0.7, label='GR (γ=1)')\n",
    "    plt.axvline(x=kappa_value, color='b', linestyle=':', alpha=0.7, label=f'Current κ={kappa_value}')\n",
    "    plt.scatter([kappa_value], [gamma], color='red', s=100, zorder=10)\n",
    "    plt.xlabel('κ (Constitutive Parameter)')\n",
    "    plt.ylabel('γ (PPN Parameter)')\n",
    "    plt.title('PPN γ vs κ Relationship')\n",
    "    plt.legend()\n",
    "    plt.grid(True, alpha=0.3)\n",
    "    \n",
    "    plt.tight_layout()\n",
    "    plt.show()\n",
    "\n",
    "# Try different values\n",
    "print(\"Exploring different κ values:\")\n",
    "for kappa in [0.5, 1.0, 1.5, 2.0, 2.5, 3.0]:\n",
    "    explore_kappa(kappa)\n",
    "    print(\"\\n\" + \"=\"*50 + \"\\n\")"
   ]
  },
  {
   "cell_type": "markdown",
   "metadata": {
    "id": "troubleshooting"
   },
   "source": [
    "## Troubleshooting\n",
    "\n",
    "**Common Issues:**\n",
    "- If plots don't display, ensure matplotlib is installed\n",
    "- Import errors indicate repository cloning issues\n",
    "- **TypeError: only length-1 arrays can be converted to Python scalars**: This error occurs when Colab caches an old version of the repository. The setup cell above now forces a fresh clone to avoid this issue. If you still see this error, restart the runtime (Runtime → Restart runtime) and run all cells again.\n",
    "\n",
    "**Key Insights:**\n",
    "- In our model, β=1 always (built into the theory)\n",
    "- γ = κ/2, so κ=2 gives exact GR limit γ=1\n",
    "- The constitutive parameter κ controls the strength of the computational capacity effect\n",
    "- Near N=1, the model reduces to standard General Relativity"
   ]
  }
 ],
 "metadata": {
  "colab": {
   "provenance": [],
   "include_colab_link": true
  },
  "kernelspec": {
   "display_name": "Python 3",
   "name": "python3"
  },
  "language_info": {
   "name": "python"
  }
 },
 "nbformat": 4,
 "nbformat_minor": 0
}
