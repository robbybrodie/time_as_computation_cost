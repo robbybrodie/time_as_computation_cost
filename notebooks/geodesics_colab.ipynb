{
 "cells": [
  {
   "cell_type": "markdown",
   "metadata": {
    "id": "view-in-github",
    "colab_type": "text"
   },
   "source": [
    "<a href=\"https://colab.research.google.com/github/robbybrodie/time_as_computation_cost/blob/main/notebooks/geodesics_colab.ipynb\" target=\"_parent\"><img src=\"https://colab.research.google.com/assets/colab-badge.svg\" alt=\"Open In Colab\"/></a>"
   ]
  },
  {
   "cell_type": "markdown",
   "metadata": {
    "id": "title"
   },
   "source": [
    "# Geodesics Experiment: Solar System Tests\n",
    "\n",
    "This experiment tests our computational-capacity model against classic solar system observations: light bending, Shapiro delay, and Mercury perihelion precession."
   ]
  },
  {
   "cell_type": "markdown",
   "metadata": {
    "id": "setup"
   },
   "source": [
    "## Setup: Clone Repository and Install Dependencies"
   ]
  },
  {
   "cell_type": "code",
   "execution_count": null,
   "metadata": {
    "id": "bootstrap"
   },
   "outputs": [],
   "source": [
    "# Clone and setup (idempotent)\n",
    "import os, sys, subprocess, shutil, pathlib\n",
    "REPO_URL = \"https://github.com/robbybrodie/time_as_computation_cost.git\"\n",
    "REPO_NAME = \"time_as_computation_cost\"\n",
    "\n",
    "if not pathlib.Path(REPO_NAME).exists():\n",
    "    !git clone $REPO_URL\n",
    "\n",
    "%cd $REPO_NAME\n",
    "\n",
    "# Install package\n",
    "if (pathlib.Path(\"pyproject.toml\")).exists():\n",
    "    !pip install -e .\n",
    "\n",
    "# Set random seed for reproducibility\n",
    "import numpy as np, random\n",
    "np.random.seed(42)\n",
    "random.seed(42)"
   ]
  },
  {
   "cell_type": "markdown",
   "metadata": {
    "id": "experiment"
   },
   "source": [
    "## Run Geodesics Experiment"
   ]
  },
  {
   "cell_type": "code",
   "execution_count": null,
   "metadata": {
    "id": "run_experiment"
   },
   "outputs": [],
   "source": [
    "from experiments.run_geodesics import main\n",
    "main()"
   ]
  },
  {
   "cell_type": "markdown",
   "metadata": {
    "id": "display"
   },
   "source": [
    "## Display Results"
   ]
  },
  {
   "cell_type": "code",
   "execution_count": null,
   "metadata": {
    "id": "display_results"
   },
   "outputs": [],
   "source": [
    "from IPython.display import Image, display\n",
    "from pathlib import Path\n",
    "\n",
    "# Display generated plots\n",
    "output_dir = Path(\"experiments/out/geodesics\")\n",
    "\n",
    "print(\"Light Bending vs Impact Parameter:\")\n",
    "display(Image(str(output_dir / \"light_bending.png\")))\n",
    "\n",
    "print(\"\\nShapiro Delay vs Impact Parameter:\")\n",
    "display(Image(str(output_dir / \"shapiro_delay.png\")))\n",
    "\n",
    "print(\"\\nMercury Perihelion Precession:\")\n",
    "display(Image(str(output_dir / \"mercury_precession.png\")))\n",
    "\n",
    "print(\"\\nSolar System Tests Summary:\")\n",
    "display(Image(str(output_dir / \"solar_system_tests.png\")))\n",
    "\n",
    "# Display numerical results\n",
    "print(\"\\nNumerical Results:\")\n",
    "with open(output_dir / \"results.txt\", 'r') as f:\n",
    "    print(f.read())"
   ]
  },
  {
   "cell_type": "markdown",
   "metadata": {
    "id": "params"
   },
   "source": [
    "## Optional: Custom Solar System Parameters"
   ]
  },
  {
   "cell_type": "code",
   "execution_count": null,
   "metadata": {
    "id": "custom_params"
   },
   "outputs": [],
   "source": [
    "# Explore different planetary systems\n",
    "import numpy as np\n",
    "import matplotlib.pyplot as plt\n",
    "from tacc import geodesics\n",
    "\n",
    "# Solar system parameters\n",
    "GM_sun = 1.327e20  # m^3/s^2\n",
    "c = 2.998e8  # m/s\n",
    "\n",
    "# Test with different planetary parameters\n",
    "planets = {\n",
    "    'Mercury': {'a': 0.387, 'e': 0.206},\n",
    "    'Venus': {'a': 0.723, 'e': 0.007},\n",
    "    'Earth': {'a': 1.000, 'e': 0.017},\n",
    "    'Mars': {'a': 1.524, 'e': 0.094}\n",
    "}\n",
    "\n",
    "gamma_values = [0.5, 1.0, 1.5, 2.0]\n",
    "beta = 1.0  # Always 1 in our model\n",
    "\n",
    "plt.figure(figsize=(12, 8))\n",
    "\n",
    "for i, (planet_name, params) in enumerate(planets.items()):\n",
    "    plt.subplot(2, 2, i+1)\n",
    "    \n",
    "    precessions = []\n",
    "    for gamma in gamma_values:\n",
    "        precession = geodesics.perihelion_precession(params['a'], params['e'], beta, gamma, GM_sun, c)\n",
    "        # Convert to arcseconds per century\n",
    "        if planet_name == 'Mercury':\n",
    "            period_days = 88\n",
    "        elif planet_name == 'Venus':\n",
    "            period_days = 225\n",
    "        elif planet_name == 'Earth':\n",
    "            period_days = 365\n",
    "        elif planet_name == 'Mars':\n",
    "            period_days = 687\n",
    "        \n",
    "        precession_arcsec = precession * 206265 * 100 / (period_days * 365.25 * 24 * 3600) * (100 * 365.25 * 24 * 3600)\n",
    "        precessions.append(precession_arcsec)\n",
    "    \n",
    "    plt.plot(gamma_values, precessions, 'o-', linewidth=2, markersize=6)\n",
    "    plt.xlabel('γ (PPN Parameter)')\n",
    "    plt.ylabel('Precession (arcsec/century)')\n",
    "    plt.title(f'{planet_name} (a={params[\"a\"]} AU, e={params[\"e\"]})')\n",
    "    plt.grid(True, alpha=0.3)\n",
    "    \n",
    "    # Add observed value for Mercury\n",
    "    if planet_name == 'Mercury':\n",
    "        plt.axhline(y=43.1, color='r', linestyle='--', alpha=0.7, label='Observed')\n",
    "        plt.legend()\n",
    "\n",
    "plt.suptitle('Perihelion Precession for Different Planets')\n",
    "plt.tight_layout()\n",
    "plt.show()\n",
    "\n",
    "print(\"Key Observations:\")\n",
    "print(\"- Mercury shows the largest precession effect due to its proximity to the Sun\")\n",
    "print(\"- The effect scales with orbital parameters and proximity to the gravitational source\")\n",
    "print(\"- γ=1 (Einstein's GR) best matches the observed Mercury precession anomaly\")"
   ]
  },
  {
   "cell_type": "markdown",
   "metadata": {
    "id": "light_bending_custom"
   },
   "source": [
    "## Custom Light Bending Analysis"
   ]
  },
  {
   "cell_type": "code",
   "execution_count": null,
   "metadata": {
    "id": "light_bending_analysis"
   },
   "outputs": [],
   "source": [
    "# Detailed light bending analysis\n",
    "import numpy as np\n",
    "import matplotlib.pyplot as plt\n",
    "from tacc import geodesics\n",
    "\n",
    "# Solar parameters\n",
    "GM_sun = 1.327e20  # m^3/s^2\n",
    "R_sun = 6.96e8  # solar radius in meters\n",
    "c = 2.998e8  # m/s\n",
    "\n",
    "# Famous eclipse measurements\n",
    "eclipse_data = {\n",
    "    '1919 Sobral': {'measured': 1.98, 'error': 0.12},  # arcseconds\n",
    "    '1919 Principe': {'measured': 1.61, 'error': 0.30},\n",
    "    'Modern average': {'measured': 1.750, 'error': 0.009}\n",
    "}\n",
    "\n",
    "# Calculate predictions for different gamma values at solar limb\n",
    "gamma_values = np.linspace(0.5, 2.0, 100)\n",
    "predictions = []\n",
    "\n",
    "for gamma in gamma_values:\n",
    "    # At solar limb: b ≈ R_sun, so b/rs ≈ 1\n",
    "    deflection = geodesics.null_geodesic_deflection(1.0, gamma, GM_sun, c)\n",
    "    deflection_arcsec = deflection * 206265\n",
    "    predictions.append(deflection_arcsec)\n",
    "\n",
    "plt.figure(figsize=(10, 6))\n",
    "plt.plot(gamma_values, predictions, 'b-', linewidth=2, label='Our Model')\n",
    "\n",
    "# Plot historical measurements\n",
    "colors = ['red', 'green', 'purple']\n",
    "for i, (name, data) in enumerate(eclipse_data.items()):\n",
    "    plt.axhline(y=data['measured'], color=colors[i], linestyle='--', \n",
    "               label=f'{name}: {data[\"measured\"]}±{data[\"error\"]}\"')\n",
    "    plt.fill_between(gamma_values, \n",
    "                    data['measured'] - data['error'],\n",
    "                    data['measured'] + data['error'],\n",
    "                    color=colors[i], alpha=0.1)\n",
    "\n",
    "# Mark Einstein's prediction (gamma=1)\n",
    "einstein_pred = geodesics.null_geodesic_deflection(1.0, 1.0, GM_sun, c) * 206265\n",
    "plt.axvline(x=1.0, color='black', linestyle=':', alpha=0.7, label='Einstein (γ=1)')\n",
    "plt.scatter([1.0], [einstein_pred], color='black', s=100, zorder=10)\n",
    "\n",
    "plt.xlabel('γ (PPN Parameter)')\n",
    "plt.ylabel('Light Deflection at Solar Limb (arcseconds)')\n",
    "plt.title('Light Bending: Model vs Historical Measurements')\n",
    "plt.legend()\n",
    "plt.grid(True, alpha=0.3)\n",
    "plt.ylim([1.0, 2.5])\n",
    "\n",
    "plt.tight_layout()\n",
    "plt.show()\n",
    "\n",
    "print(f\"Einstein's prediction (γ=1): {einstein_pred:.3f} arcseconds\")\n",
    "print(\"Historical context:\")\n",
    "print(\"- 1919 eclipse expeditions confirmed Einstein's prediction\")\n",
    "print(\"- Modern measurements agree with GR to high precision\")\n",
    "print(\"- Our model reduces to GR when γ=1 (κ=2)\")"
   ]
  },
  {
   "cell_type": "markdown",
   "metadata": {
    "id": "troubleshooting"
   },
   "source": [
    "## Troubleshooting\n",
    "\n",
    "**Common Issues:**\n",
    "- Large numbers in calculations - results are in SI units\n",
    "- Import errors indicate repository setup problems\n",
    "\n",
    "**Physical Insights:**\n",
    "- Light bending scales as (1+γ) - our model allows tuning via γ\n",
    "- Shapiro delay also depends on (1+γ) \n",
    "- Mercury precession scales as (2-β+2γ), with β=1 in our model\n",
    "- All effects reduce to Einstein's GR when γ=1\n",
    "\n",
    "**Key Results:**\n",
    "- γ=1 (κ=2) gives exact agreement with GR and observations\n",
    "- The computational capacity parameter κ controls deviations from GR\n",
    "- Solar system tests constrain κ ≈ 2 for consistency with observations"
   ]
  }
 ],
 "metadata": {
  "colab": {
   "provenance": [],
   "include_colab_link": true
  },
  "kernelspec": {
   "display_name": "Python 3",
   "name": "python3"
  },
  "language_info": {
   "name": "python"
  }
 },
 "nbformat": 4,
 "nbformat_minor": 0
}
