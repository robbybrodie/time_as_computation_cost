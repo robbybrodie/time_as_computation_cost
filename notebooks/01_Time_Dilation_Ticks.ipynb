{
 "cells": [
  {
   "cell_type": "markdown",
   "metadata": {},
   "source": [
    "# Time Dilation as Planck-Tick Budget\n",
    "\n",
    "This notebook gives a minimal visual intuition for the model's core claim:\n",
    "**more computational cost → more Planck ticks per frame → fewer frames per external unit → observed time dilation.**\n",
    "\n",
    "We use standard SR and a simple GR proxy to *illustrate* how an increasing \"cost\" multiplier maps to more ticks per frame and fewer frames per external unit. This is an intuition aid, not a derivation."
   ]
  },
  {
   "cell_type": "code",
   "execution_count": null,
   "metadata": {},
   "outputs": [],
   "source": [
    "import numpy as np\n",
    "import matplotlib.pyplot as plt\n",
    "\n",
    "# Conceptual toy model (illustrative only):\n",
    "# Use gamma(v) from SR as a proxy for \"computational cost multiplier\" with velocity.\n",
    "# Interpret \"ticks per frame\" ∝ cost; \"frames per external unit\" ∝ 1/cost.\n",
    "\n",
    "c = 1.0\n",
    "v = np.linspace(0, 0.99*c, 300)\n",
    "gamma = 1.0 / np.sqrt(1 - (v/c)**2)\n",
    "\n",
    "ticks_per_frame = gamma            # more cost → more ticks per frame\n",
    "frames_per_external = 1.0 / gamma  # fewer frames emitted per external unit\n",
    "\n",
    "plt.figure()\n",
    "plt.plot(v/c, ticks_per_frame)\n",
    "plt.xlabel('v/c')\n",
    "plt.ylabel('Ticks per frame (arb. units)')\n",
    "plt.title('Velocity increases required ticks per frame (illustrative)')\n",
    "plt.show()\n",
    "\n",
    "plt.figure()\n",
    "plt.plot(v/c, frames_per_external)\n",
    "plt.xlabel('v/c')\n",
    "plt.ylabel('Frames per external unit (arb. units)')\n",
    "plt.title('Higher cost → fewer frames per external unit (time dilation)')\n",
    "plt.show()\n",
    "\n",
    "# Optional: gravitational potential proxy using 1/sqrt(1 - 2GM/(rc^2))\n",
    "G = 1.0; M = 1.0; c = 1.0\n",
    "r = np.linspace(3.0, 20.0, 300)  # in units of GM/c^2, avoid r<=2\n",
    "grav_gamma = 1.0 / np.sqrt(1 - 2*G*M/(r*c**2))\n",
    "\n",
    "plt.figure()\n",
    "plt.plot(r, grav_gamma)\n",
    "plt.xlabel('r / (GM/c^2)')\n",
    "plt.ylabel('Ticks per frame (arb. units)')\n",
    "plt.title('Deeper potential → more ticks per frame (illustrative)')\n",
    "plt.show()"
   ]
  }
 ],
 "metadata": {
  "kernelspec": {
   "display_name": "Python 3",
   "language": "python",
   "name": "python3"
  },
  "language_info": {
   "codemirror_mode": {
    "name": "ipython",
    "version": 3
   },
   "file_extension": ".py",
   "mimetype": "text/x-python",
   "name": "python",
   "nbconvert_exporter": "python",
   "pygments_lexer": "ipython3",
   "version": "3.9.6"
  }
 },
 "nbformat": 4,
 "nbformat_minor": 4
}
