{
 "cells": [
  {
   "cell_type": "markdown",
   "metadata": {
    "id": "view-in-github",
    "colab_type": "text"
   },
   "source": [
    "<a href=\"https://colab.research.google.com/github/robbybrodie/time_as_computation_cost/blob/main/notebooks/bandgaps_colab.ipynb\" target=\"_parent\"><img src=\"https://colab.research.google.com/assets/colab-badge.svg\" alt=\"Open In Colab\"/></a>"
   ]
  },
  {
   "cell_type": "markdown",
   "metadata": {
    "id": "title"
   },
   "source": [
    "# Bandgaps Experiment: DoF Law Fitting\n",
    "\n",
    "This experiment fits microphysical degrees of freedom (DoF) laws and beta parameters from synthetic data, comparing our computational-capacity model against baseline models."
   ]
  },
  {
   "cell_type": "markdown",
   "metadata": {
    "id": "setup"
   },
   "source": [
    "## Setup: Clone Repository and Install Dependencies"
   ]
  },
  {
   "cell_type": "code",
   "execution_count": null,
   "metadata": {
    "id": "bootstrap"
   },
   "outputs": [],
   "source": [
    "# Clone and setup (idempotent)\n",
    "import os, sys, subprocess, shutil, pathlib\n",
    "REPO_URL = \"https://github.com/robbybrodie/time_as_computation_cost.git\"\n",
    "REPO_NAME = \"time_as_computation_cost\"\n",
    "\n",
    "if not pathlib.Path(REPO_NAME).exists():\n",
    "    !git clone $REPO_URL\n",
    "\n",
    "%cd $REPO_NAME\n",
    "\n",
    "# Install package\n",
    "if (pathlib.Path(\"pyproject.toml\")).exists():\n",
    "    !pip install -e .\n",
    "\n",
    "# Set random seed for reproducibility\n",
    "import numpy as np, random\n",
    "np.random.seed(42)\n",
    "random.seed(42)"
   ]
  },
  {
   "cell_type": "markdown",
   "metadata": {
    "id": "experiment"
   },
   "source": [
    "## Run Bandgaps Experiment"
   ]
  },
  {
   "cell_type": "code",
   "execution_count": null,
   "metadata": {
    "id": "run_experiment"
   },
   "outputs": [],
   "source": [
    "from experiments.run_bandgaps import main\n",
    "main()"
   ]
  },
  {
   "cell_type": "markdown",
   "metadata": {
    "id": "display"
   },
   "source": [
    "## Display Results"
   ]
  },
  {
   "cell_type": "code",
   "execution_count": null,
   "metadata": {
    "id": "display_results"
   },
   "outputs": [],
   "source": [
    "from IPython.display import Image, display\n",
    "import glob\n",
    "from pathlib import Path\n",
    "\n",
    "# Display generated plots\n",
    "output_dir = Path(\"experiments/out/bandgaps\")\n",
    "\n",
    "print(\"DoF and Beta Parameter Fits:\")\n",
    "display(Image(str(output_dir / \"bandgaps_fits.png\")))\n",
    "\n",
    "print(\"\\nModel Comparison with Baselines:\")\n",
    "display(Image(str(output_dir / \"baseline_comparison.png\")))\n",
    "\n",
    "# Display numerical results\n",
    "print(\"\\nNumerical Results:\")\n",
    "with open(output_dir / \"results.txt\", 'r') as f:\n",
    "    print(f.read())"
   ]
  },
  {
   "cell_type": "markdown",
   "metadata": {
    "id": "params"
   },
   "source": [
    "## Optional: Experiment Parameters\n",
    "\n",
    "You can modify these parameters to explore different aspects of the DoF law fitting:"
   ]
  },
  {
   "cell_type": "code",
   "execution_count": null,
   "metadata": {
    "id": "custom_params"
   },
   "outputs": [],
   "source": [
    "# Custom parameters for exploration\n",
    "import numpy as np\n",
    "import matplotlib.pyplot as plt\n",
    "from tacc.micro.bandgaps import fit_dof_law, fit_beta\n",
    "\n",
    "# Try different noise levels\n",
    "noise_levels = [0.01, 0.05, 0.1, 0.2]\n",
    "fitted_params = []\n",
    "\n",
    "for noise in noise_levels:\n",
    "    np.random.seed(42)\n",
    "    N_values = np.linspace(0.5, 1.5, 50)\n",
    "    true_a = 2.0\n",
    "    DoF_values = np.exp(-true_a * (1 - N_values))\n",
    "    DoF_values += np.random.normal(0, noise, len(DoF_values))\n",
    "    \n",
    "    # Fit with custom data\n",
    "    from scipy.optimize import curve_fit\n",
    "    def dof_model(N, a):\n",
    "        return np.exp(-a * (1 - N))\n",
    "    \n",
    "    popt, _ = curve_fit(dof_model, N_values, DoF_values)\n",
    "    fitted_params.append(popt[0])\n",
    "    print(f\"Noise level {noise:.2f}: fitted a = {popt[0]:.3f} (error: {abs(popt[0] - true_a):.3f})\")\n",
    "\n",
    "# Plot noise sensitivity\n",
    "plt.figure(figsize=(8, 6))\n",
    "plt.plot(noise_levels, fitted_params, 'bo-', linewidth=2, markersize=8)\n",
    "plt.axhline(y=2.0, color='r', linestyle='--', label='True value (a=2.0)')\n",
    "plt.xlabel('Noise Level')\n",
    "plt.ylabel('Fitted Parameter a')\n",
    "plt.title('Noise Sensitivity Analysis')\n",
    "plt.legend()\n",
    "plt.grid(True, alpha=0.3)\n",
    "plt.show()"
   ]
  },
  {
   "cell_type": "markdown",
   "metadata": {
    "id": "troubleshooting"
   },
   "source": [
    "## Troubleshooting\n",
    "\n",
    "**Common Issues:**\n",
    "- If plots don't display, ensure matplotlib is properly installed\n",
    "- If imports fail, check that the repository was cloned correctly\n",
    "- For fitting errors, verify that the synthetic data generation is working\n",
    "\n",
    "**Expected Output:**\n",
    "- Two plots showing DoF law fits and baseline model comparisons\n",
    "- Numerical results showing fitted parameters and model comparison metrics (AIC/BIC)\n",
    "- Our exponential model should outperform polynomial baselines for this synthetic data"
   ]
  }
 ],
 "metadata": {
  "colab": {
   "provenance": [],
   "include_colab_link": true
  },
  "kernelspec": {
   "display_name": "Python 3",
   "name": "python3"
  },
  "language_info": {
   "name": "python"
  }
 },
 "nbformat": 4,
 "nbformat_minor": 0
}
