{
 "cells": [
  {
   "cell_type": "markdown",
   "metadata": {
    "id": "view-in-github",
    "colab_type": "text"
   },
   "source": [
    "<a href=\"https://colab.research.google.com/github/robbybrodie/time_as_computation_cost/blob/main/notebooks/00_Run_All_Experiments.ipynb\" target=\"_parent\"><img src=\"https://colab.research.google.com/assets/colab-badge.svg\" alt=\"Open In Colab\"/></a>"
   ]
  },
  {
   "cell_type": "markdown",
   "metadata": {
    "id": "title"
   },
   "source": [
    "# Time as Computation Cost: Complete Experimental Suite\n",
    "\n",
    "This notebook runs all experiments for the **TACC** (Time as Computation Cost) framework - a computational-capacity model of time dilation and gravitation.\n",
    "\n",
    "## Theory Overview\n",
    "The TACC framework proposes that:\n",
    "- Time dilation arises from computational capacity constraints\n",
    "- Spacetime metric: `ds² = -N²c²dt² + [1/B(N)]dx²`\n",
    "- Constitutive law: `B(N) = exp[-κ(1-N)]`\n",
    "- Reduces to General Relativity when κ=2 (γ=1)\n",
    "\n",
    "## Experiments Included\n",
    "1. **Bandgaps**: DoF law fitting and model comparison\n",
    "2. **PPN Parameters**: Extract γ, β and test against GR\n",
    "3. **Geodesics**: Solar system tests (light bending, Shapiro delay, Mercury precession)"
   ]
  },
  {
   "cell_type": "markdown",
   "metadata": {
    "id": "setup"
   },
   "source": [
    "## Setup: Clone Repository and Install Dependencies"
   ]
  },
  {
   "cell_type": "code",
   "execution_count": null,
   "metadata": {
    "id": "bootstrap"
   },
   "outputs": [],
   "source": [
    "# Clone and setup (idempotent)\n",
    "import os, sys, subprocess, shutil, pathlib\n",
    "REPO_URL = \"https://github.com/robbybrodie/time_as_computation_cost.git\"\n",
    "REPO_NAME = \"time_as_computation_cost\"\n",
    "\n",
    "if not pathlib.Path(REPO_NAME).exists():\n",
    "    print(f\"Cloning {REPO_URL}...\")\n",
    "    !git clone $REPO_URL\n",
    "else:\n",
    "    print(\"Repository already exists, updating...\")\n",
    "\n",
    "%cd $REPO_NAME\n",
    "\n",
    "# Install package\n",
    "if (pathlib.Path(\"pyproject.toml\")).exists():\n",
    "    print(\"Installing TACC package...\")\n",
    "    !pip install -e .\n",
    "\n",
    "# Set random seed for reproducibility\n",
    "import numpy as np, random\n",
    "np.random.seed(42)\n",
    "random.seed(42)\n",
    "\n",
    "print(\"\\n🚀 Setup complete! Ready to explore time as computation cost.\")"
   ]
  },
  {
   "cell_type": "markdown",
   "metadata": {
    "id": "experiment_1"
   },
   "source": [
    "## Experiment 1: Bandgaps - DoF Law Fitting\n",
    "\n",
    "Fits microphysical degrees of freedom laws: `DoF(N) = exp[-a(1-N)]` and `ψ = DoF^β`"
   ]
  },
  {
   "cell_type": "code",
   "execution_count": null,
   "metadata": {
    "id": "run_bandgaps"
   },
   "outputs": [],
   "source": [
    "print(\"=\" * 60)\n",
    "print(\"EXPERIMENT 1: BANDGAPS - DoF LAW FITTING\")\n",
    "print(\"=\" * 60)\n",
    "\n",
    "from experiments.run_bandgaps import main as run_bandgaps\n",
    "run_bandgaps()\n",
    "\n",
    "# Display key results\n",
    "from IPython.display import Image, display\n",
    "from pathlib import Path\n",
    "\n",
    "bandgaps_out = Path(\"experiments/out/bandgaps\")\n",
    "print(\"\\n📊 DoF Law Fits:\")\n",
    "display(Image(str(bandgaps_out / \"bandgaps_fits.png\")))\n",
    "\n",
    "print(\"\\n📈 Model Comparison:\")\n",
    "display(Image(str(bandgaps_out / \"baseline_comparison.png\")))"
   ]
  },
  {
   "cell_type": "markdown",
   "metadata": {
    "id": "experiment_2"
   },
   "source": [
    "## Experiment 2: PPN Parameters - General Relativity Connection\n",
    "\n",
    "Extracts Post-Newtonian parameters γ and β from our metric. Shows how κ=2 recovers Einstein's GR."
   ]
  },
  {
   "cell_type": "code",
   "execution_count": null,
   "metadata": {
    "id": "run_ppn"
   },
   "outputs": [],
   "source": [
    "print(\"=\" * 60)\n",
    "print(\"EXPERIMENT 2: PPN PARAMETERS - GR CONNECTION\")\n",
    "print(\"=\" * 60)\n",
    "\n",
    "from experiments.run_ppn import main as run_ppn\n",
    "run_ppn()\n",
    "\n",
    "# Display key results\n",
    "ppn_out = Path(\"experiments/out/ppn\")\n",
    "print(\"\\n📊 PPN Parameters vs κ:\")\n",
    "display(Image(str(ppn_out / \"ppn_parameters.png\")))\n",
    "\n",
    "print(\"\\n📈 Constitutive Law B(N):\")\n",
    "display(Image(str(ppn_out / \"constitutive_law.png\")))"
   ]
  },
  {
   "cell_type": "markdown",
   "metadata": {
    "id": "experiment_3"
   },
   "source": [
    "## Experiment 3: Geodesics - Solar System Tests\n",
    "\n",
    "Tests our model against classic solar system observations: light bending, Shapiro delay, Mercury precession."
   ]
  },
  {
   "cell_type": "code",
   "execution_count": null,
   "metadata": {
    "id": "run_geodesics"
   },
   "outputs": [],
   "source": [
    "print(\"=\" * 60)\n",
    "print(\"EXPERIMENT 3: GEODESICS - SOLAR SYSTEM TESTS\")\n",
    "print(\"=\" * 60)\n",
    "\n",
    "from experiments.run_geodesics import main as run_geodesics\n",
    "run_geodesics()\n",
    "\n",
    "# Display key results\n",
    "geodesics_out = Path(\"experiments/out/geodesics\")\n",
    "print(\"\\n🌟 Light Bending:\")\n",
    "display(Image(str(geodesics_out / \"light_bending.png\")))\n",
    "\n",
    "print(\"\\n🪐 Mercury Precession:\")\n",
    "display(Image(str(geodesics_out / \"mercury_precession.png\")))\n",
    "\n",
    "print(\"\\n🌞 Solar System Tests Summary:\")\n",
    "display(Image(str(geodesics_out / \"solar_system_tests.png\")))"
   ]
  },
  {
   "cell_type": "markdown",
   "metadata": {
    "id": "verification"
   },
   "source": [
    "## Verification: Check All Outputs Generated"
   ]
  },
  {
   "cell_type": "code",
   "execution_count": null,
   "metadata": {
    "id": "verify_outputs"
   },
   "outputs": [],
   "source": [
    "import glob\n",
    "from pathlib import Path\n",
    "\n",
    "print(\"=\" * 60)\n",
    "print(\"OUTPUT VERIFICATION\")\n",
    "print(\"=\" * 60)\n",
    "\n",
    "# Check for all expected outputs\n",
    "expected_outputs = [\n",
    "    \"experiments/out/bandgaps/bandgaps_fits.png\",\n",
    "    \"experiments/out/bandgaps/baseline_comparison.png\",\n",
    "    \"experiments/out/bandgaps/results.txt\",\n",
    "    \"experiments/out/ppn/ppn_parameters.png\",\n",
    "    \"experiments/out/ppn/constitutive_law.png\",\n",
    "    \"experiments/out/ppn/results.txt\",\n",
    "    \"experiments/out/geodesics/light_bending.png\",\n",
    "    \"experiments/out/geodesics/mercury_precession.png\",\n",
    "    \"experiments/out/geodesics/solar_system_tests.png\",\n",
    "    \"experiments/out/geodesics/results.txt\"\n",
    "]\n",
    "\n",
    "missing_files = []\n",
    "for expected_file in expected_outputs:\n",
    "    if Path(expected_file).exists():\n",
    "        print(f\"✅ {expected_file}\")\n",
    "    else:\n",
    "        print(f\"❌ {expected_file}\")\n",
    "        missing_files.append(expected_file)\n",
    "\n",
    "# Summary\n",
    "print(f\"\\n📊 Generated {len(expected_outputs) - len(missing_files)}/{len(expected_outputs)} expected files\")\n",
    "\n",
    "if len(missing_files) == 0:\n",
    "    print(\"\\n🎉 All experiments completed successfully!\")\n",
    "    print(\"\\nFind all results in the experiments/out/ directory:\")\n",
    "    \n",
    "    # List all generated files\n",
    "    all_outputs = list(Path(\"experiments/out\").rglob(\"*.*\"))\n",
    "    for output_file in sorted(all_outputs):\n",
    "        print(f\"   📁 {output_file}\")\n",
    "else:\n",
    "    print(f\"\\n⚠️  {len(missing_files)} files missing. Check experiment execution above.\")\n",
    "\n",
    "# Display file sizes\n",
    "print(\"\\n📏 Output file sizes:\")\n",
    "for output_file in sorted(Path(\"experiments/out\").rglob(\"*.*\")):\n",
    "    size_kb = output_file.stat().st_size / 1024\n",
    "    print(f\"   {size_kb:6.1f} KB  {output_file}\")"
   ]
  },
  {
   "cell_type": "markdown",
   "metadata": {
    "id": "summary"
   },
   "source": [
    "## Experimental Summary & Key Findings"
   ]
  },
  {
   "cell_type": "code",
   "execution_count": null,
   "metadata": {
    "id": "summary_analysis"
   },
   "outputs": [],
   "source": [
    "print(\"=\" * 60)\n",
    "print(\"KEY FINDINGS FROM TACC EXPERIMENTS\")\n",
    "print(\"=\" * 60)\n",
    "\n",
    "print(\"\\n🧮 THEORETICAL FRAMEWORK:\")\n",
    "print(\"• Time dilation emerges from computational capacity constraints\")\n",
    "print(\"• Metric: ds² = -N²c²dt² + [1/B(N)]dx²\")\n",
    "print(\"• Constitutive law: B(N) = exp[-κ(1-N)]\")\n",
    "print(\"• Free parameter κ controls deviation from GR\")\n",
    "\n",
    "print(\"\\n📊 EXPERIMENT 1 - BANDGAPS:\")\n",
    "print(\"• Successfully fits DoF laws: DoF(N) = exp[-a(1-N)]\")\n",
    "print(\"• Power law mapping: ψ = DoF^β works well\")\n",
    "print(\"• Exponential model outperforms polynomial baselines\")\n",
    "print(\"• Robust to noise in microphysical data\")\n",
    "\n",
    "print(\"\\n🎯 EXPERIMENT 2 - PPN PARAMETERS:\")\n",
    "print(\"• PPN parameter relationship: γ = κ/2, β = 1 (always)\")\n",
    "print(\"• κ = 2 gives γ = 1, exactly recovering Einstein's GR\")\n",
    "print(\"• Near N=1: model reduces to standard General Relativity\")\n",
    "print(\"• Special relativity limit correctly reproduced\")\n",
    "\n",
    "print(\"\\n🌟 EXPERIMENT 3 - SOLAR SYSTEM TESTS:\")\n",
    "print(\"• Light bending: scales as (1+γ), matches eclipse data when γ=1\")\n",
    "print(\"• Shapiro delay: consistent with (1+γ) PPN prediction\")\n",
    "print(\"• Mercury precession: 43.1 arcsec/century when γ=1\")\n",
    "print(\"• All classical tests pass with κ=2 (GR limit)\")\n",
    "\n",
    "print(\"\\n🔗 PHYSICAL INSIGHTS:\")\n",
    "print(\"• Computational capacity N acts as effective gravitational potential\")\n",
    "print(\"• κ parameter could be constrained by high-precision experiments\")\n",
    "print(\"• Framework provides alternative foundation for spacetime geometry\")\n",
    "print(\"• Potentially testable deviations from GR in extreme conditions\")\n",
    "\n",
    "print(\"\\n🚀 NEXT STEPS:\")\n",
    "print(\"• Test with real astrophysical data\")\n",
    "print(\"• Explore cosmological implications\")\n",
    "print(\"• Investigate quantum computational limits\")\n",
    "print(\"• Develop precision tests to constrain κ\")\n",
    "\n",
    "print(\"\\n\" + \"=\" * 60)\n",
    "print(\"🎉 TACC EXPERIMENTAL SUITE COMPLETE!\")\n",
    "print(\"=\" * 60)\n",
    "\n",
    "# Load and display final numerical summary from each experiment\n",
    "experiments = [\"bandgaps\", \"ppn\", \"geodesics\"]\n",
    "for exp_name in experiments:\n",
    "    results_file = Path(f\"experiments/out/{exp_name}/results.txt\")\n",
    "    if results_file.exists():\n",
    "        print(f\"\\n📋 {exp_name.upper()} SUMMARY:\")\n",
    "        with open(results_file, 'r') as f:\n",
    "            content = f.read()\n",
    "            # Show only first few lines to keep summary concise\n",
    "            lines = content.split('\\n')[:8]\n",
    "            for line in lines:\n",
    "                if line.strip():\n",
    "                    print(f\"   {line}\")\n",
    "        print(\"   [... see full results in experiments/out/ directory]\")"
   ]
  },
  {
   "cell_type": "markdown",
   "metadata": {
    "id": "individual_notebooks"
   },
   "source": [
    "## Individual Experiment Notebooks\n",
    "\n",
    "For detailed exploration of individual experiments, use these specialized notebooks:\n",
    "\n",
    "| Experiment | Notebook | Description |\n",
    "|-----------|----------|-------------|\n",
    "| **Bandgaps** | [bandgaps_colab.ipynb](https://colab.research.google.com/github/robbybrodie/time_as_computation_cost/blob/main/notebooks/bandgaps_colab.ipynb) | DoF law fitting with interactive parameter exploration |\n",
    "| **PPN Parameters** | [ppn_colab.ipynb](https://colab.research.google.com/github/robbybrodie/time_as_computation_cost/blob/main/notebooks/ppn_colab.ipynb) | Post-Newtonian parameter extraction and GR connection |\n",
    "| **Geodesics** | [geodesics_colab.ipynb](https://colab.research.google.com/github/robbybrodie/time_as_computation_cost/blob/main/notebooks/geodesics_colab.ipynb) | Solar system tests with historical data comparison |\n",
    "\n",
    "Each notebook includes:\n",
    "- ✅ One-click setup and execution\n",
    "- 📊 Interactive parameter exploration\n",
    "- 🔧 Troubleshooting guides\n",
    "- 📚 Physical insights and interpretation"
   ]
  },
  {
   "cell_type": "markdown",
   "metadata": {
    "id": "troubleshooting"
   },
   "source": [
    "## Troubleshooting\n",
    "\n",
    "**Common Issues:**\n",
    "- **Import errors**: Repository cloning failed - run setup cell again\n",
    "- **Missing plots**: Matplotlib not installed - included in package dependencies\n",
    "- **Large numbers**: Results in SI units - physically correct but large scale\n",
    "\n",
    "**Performance:**\n",
    "- All experiments should complete in < 2 minutes total\n",
    "- Generates ~10 plots and 3 text files with numerical results\n",
    "- Works in free Colab tier - no GPU needed\n",
    "\n",
    "**Support:**\n",
    "- 📖 Full documentation at repository README\n",
    "- 🐛 Report issues on GitHub\n",
    "- 💬 Theoretical questions welcome in discussions"
   ]
  }
 ],
 "metadata": {
  "colab": {
   "provenance": [],
   "include_colab_link": true
  },
  "kernelspec": {
   "display_name": "Python 3",
   "name": "python3"
  },
  "language_info": {
   "name": "python"
  }
 },
 "nbformat": 4,
 "nbformat_minor": 0
}
