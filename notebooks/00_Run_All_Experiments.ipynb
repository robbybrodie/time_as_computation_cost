{
 "cells": [
  {
   "cell_type": "markdown",
   "metadata": {
    "id": "view-in-github",
    "colab_type": "text"
   },
   "source": [
    "<a href=\"https://colab.research.google.com/github/robbybrodie/time_as_computation_cost/blob/main/notebooks/00_Run_All_Experiments.ipynb\" target=\"_parent\"><img src=\"https://colab.research.google.com/assets/colab-badge.svg\" alt=\"Open In Colab\"/></a>"
   ]
  },
  {
   "cell_type": "markdown",
   "metadata": {
    "id": "title"
   },
   "source": [
    "# Time as Computation Cost - All Experiments\n",
    "\n",
    "**Last Updated: November 8, 2025 - NEW: Fitment Framework Added!**\n",
    "\n",
    "This notebook runs all TACC experiments in sequence. Each experiment is a comprehensive interactive analysis with rich visualizations, parameter exploration, and educational content.\n",
    "\n",
    "## Experiment Rationales\n",
    "\n",
    "**Why does each experiment exist? What role does it play in testing the TACC framework?**\n",
    "\n",
    "| Experiment | Physical Scale | What It Tests | Why It's Essential |\n",
    "|------------|----------------|---------------|--------------------|\n",
    "| **Causal Diamond** | Microscopic | Lightcone lattice structure and computational node connectivity | Foundation test: Can computational nodes form consistent spacetime geometry? Like checking if your building blocks fit together before constructing the theory. |\n",
    "| **Tension Bandgaps** | Microscopic | Parameter recovery in synthetic data with noise and model selection | Robustness test: Can we reliably extract TACC parameters from noisy data? Essential for real-world applications. |\n",
    "| **Mode Crowding** | Mesoscopic | Critical point behavior when computational modes become occupied | Phase transition test: Does the model exhibit realistic critical behavior? Tests if computational \"traffic jams\" create observable effects. |\n",
    "| **Bandgaps DoF** | Mesoscopic | Degrees of freedom scaling laws with computational capacity | Scaling test: Does computational capacity follow expected statistical mechanics? Validates connection to thermodynamics. |\n",
    "| **PPN Parameters** | Macroscopic | Post-Newtonian parameter extraction (γ, β) from metric | Weak-field test: Does TACC reduce to known physics in familiar limits? The \"sanity check\" - if PPN fails, the model is dead on arrival. |\n",
    "| **Solar System Tests** | Macroscopic | Light bending, Shapiro delay, Mercury precession | Historical validation: Can TACC reproduce the classic tests that made Einstein famous? These are precision, well-measured effects. |\n",
    "| **Cosmological Expansion** | Cosmological | FLRW metric consistency and expansion history H(z) | Large-scale test: Does TACC work for the entire universe, not just local gravity? Bridge between micro and macro physics. |\n",
    "| **Black Hole Thermodynamics** | Astrophysical | Hawking temperature and entropy scaling with computational capacity | Extreme gravity test: Can TACC handle the most extreme spacetime conditions? Tests information-theoretic connections. |\n",
    "| **Gravitational Waves** | Astrophysical | Wave propagation speed and phase evolution in TACC metric | Dynamic spacetime test: Does TACC predict correct wave behavior? Critical for multi-messenger astronomy. |\n",
    "\n",
    "## Complete Experiment Suite\n",
    "\n",
    "### Core TACC Framework Experiments\n",
    "1. **Causal Diamond**: Lightcone lattice construction and propagation analysis\n",
    "2. **Tension Bandgaps**: Micro fitting with comprehensive model selection\n",
    "3. **Mode Crowding**: Occupancy vs capacity analysis with critical point detection\n",
    "4. **Bandgaps DoF**: Degrees of freedom law fitting with baseline comparison\n",
    "5. **PPN Parameters**: Post-Newtonian parameter extraction with observational constraints\n",
    "6. **Solar System Tests**: Geodesics and relativistic effects with historical context\n",
    "\n",
    "### Advanced Astrophysical Applications\n",
    "7. **Cosmological Expansion**: FLRW metrics with computational capacity dark energy\n",
    "8. **Black Hole Thermodynamics**: Hawking radiation and M87* shadow constraints\n",
    "9. **Gravitational Wave Propagation**: Binary inspirals and multi-messenger astronomy\n",
    "\n",
    "**All experiments provide comprehensive interactive analysis with parameter exploration and observational constraints.**"
   ]
  },
  {
   "cell_type": "markdown",
   "metadata": {
    "id": "setup"
   },
   "source": [
    "## Setup"
   ]
  },
  {
   "cell_type": "code",
   "execution_count": null,
   "metadata": {
    "id": "bootstrap"
   },
   "outputs": [],
   "source": [
    "# Colab bootstrap\n",
    "REPO_URL = \"https://github.com/robbybrodie/time_as_computation_cost.git\"\n",
    "REPO_NAME = \"time_as_computation_cost\"\n",
    "\n",
    "import pathlib\n",
    "import os\n",
    "\n",
    "if not pathlib.Path(REPO_NAME).exists():\n",
    "    print(f\"Cloning repository: {REPO_URL}\")\n",
    "    !git clone $REPO_URL\n",
    "else:\n",
    "    print(\"Repository already cloned\")\n",
    "\n",
    "os.chdir(REPO_NAME)\n",
    "print(f\"Changed directory to: {os.getcwd()}\")\n",
    "\n",
    "if pathlib.Path(\"pyproject.toml\").exists():\n",
    "    print(\"Installing package in editable mode...\")\n",
    "    !pip install -e .\n",
    "else:\n",
    "    print(\"No pyproject.toml found, proceeding with path-based imports\")"
   ]
  },
  {
   "cell_type": "code",
   "execution_count": null,
   "metadata": {
    "id": "imports"
   },
   "outputs": [],
   "source": [
    "import sys\n",
    "import matplotlib.pyplot as plt\n",
    "import numpy as np\n",
    "from pathlib import Path\n",
    "import pandas as pd\n",
    "from IPython.display import display, HTML\n",
    "\n",
    "# Ensure we can import from src\n",
    "repo_root = Path().resolve()\n",
    "sys.path.insert(0, str(repo_root / \"src\"))\n",
    "\n",
    "print(\"Setup complete!\")\n",
    "print(f\"Repository root: {repo_root}\")"
   ]
  },
  {
   "cell_type": "markdown",
   "metadata": {
    "id": "fitment_framework"
   },
   "source": [
    "## 🎯 NEW: Fitment Framework Demo\n",
    "\n",
    "**Interactive Calibration Framework**\n",
    "\n",
    "The TACC fitment framework provides pluggable calibration for microlaws and B(N) families. Try the interactive controls below!"
   ]
  },
  {
   "cell_type": "code",
   "execution_count": null,
   "metadata": {
    "id": "fitment_demo"
   },
   "outputs": [],
   "source": [
    "# Import the fitment framework\n",
    "try:\n",
    "    from tacc.core.nb import list_fitments, get_fitment, compute_BN\n",
    "    from tacc.core.microlaw import MicrolawInput\n",
    "    \n",
    "    print(\"🎯 FITMENT FRAMEWORK LOADED!\")\n",
    "    print(\"Available fitments:\", list(list_fitments().keys()))\n",
    "    \n",
    "    # Create synthetic dataset for demonstration\n",
    "    demo_dataset = [\n",
    "        {\"x\": {\"phi\": 0.0}, \"target\": 1.0, \"weight\": 1.0},\n",
    "        {\"x\": {\"phi\": 0.1}, \"target\": 1.05, \"weight\": 1.0},\n",
    "        {\"x\": {\"phi\": 0.2}, \"target\": 1.10, \"weight\": 1.0}\n",
    "    ]\n",
    "    \n",
    "    print(\"\\n📊 Demo dataset created with 3 data points\")\n",
    "    print(\"Ready for interactive fitment demonstration!\")\n",
    "    \n",
    "except ImportError as e:\n",
    "    print(f\"❌ Fitment framework not available: {e}\")\n",
    "    print(\"This is a new feature - make sure you have the latest code!\")\n",
    "    demo_dataset = None"
   ]
  },
  {
   "cell_type": "markdown",
   "metadata": {
    "id": "interactive_fitment"
   },
   "source": [
    "### 🔧 Interactive Fitment Controls\n",
    "\n",
    "**Toggle between different fitments and see real-time parameter updates!**"
   ]
  },
  {
   "cell_type": "code",
   "execution_count": null,
   "metadata": {
    "id": "fitment_controls"
   },
   "outputs": [],
   "source": [
    "# Interactive fitment demonstration\n",
    "if 'demo_dataset' in locals() and demo_dataset is not None:\n",
    "    \n",
    "    # Try different fitments\n",
    "    print(\"🔧 FITMENT COMPARISON\")\n",
    "    print(\"=\" * 40)\n",
    "    \n",
    "    # Initial parameters\n",
    "    ml_params = {}\n",
    "    bn_params = {\"kappa\": 2.0}\n",
    "    \n",
    "    # 1. No-fit demonstration\n",
    "    print(\"\\n1️⃣ NO-FIT (Pass-through):\")\n",
    "    no_fit = get_fitment(\"no_fit\")\n",
    "    result_no_fit = no_fit.fit(demo_dataset, \"ppn\", ml_params, \"exponential\", bn_params)\n",
    "    print(f\"   Original κ: {bn_params['kappa']:.3f}\")\n",
    "    print(f\"   After no_fit: {result_no_fit['bn']['kappa']:.3f}\")\n",
    "    print(\"   ✓ Parameters unchanged (as expected)\")\n",
    "    \n",
    "    # 2. Single parameter fitting\n",
    "    print(\"\\n2️⃣ SINGLE-PARAM (1D Optimizer):\")\n",
    "    single_param = get_fitment(\"single_param\")\n",
    "    result_single = single_param.fit(\n",
    "        demo_dataset, \n",
    "        \"ppn\", \n",
    "        ml_params, \n",
    "        \"exponential\", \n",
    "        bn_params,\n",
    "        extra={\"target_param\": \"kappa\", \"init\": 1.0, \"max_iter\": 20}\n",
    "    )\n",
    "    print(f\"   Original κ: {bn_params['kappa']:.3f}\")\n",
    "    print(f\"   After fitting: {result_single['bn']['kappa']:.3f}\")\n",
    "    print(\"   ✓ Parameter optimized to fit data!\")\n",
    "    \n",
    "    # 3. Compare predictions\n",
    "    print(\"\\n3️⃣ PREDICTION COMPARISON:\")\n",
    "    test_input = MicrolawInput(phi=0.1)\n",
    "    \n",
    "    pred_original = compute_BN(\"ppn\", test_input, {}, \"exponential\", bn_params)\n",
    "    pred_fitted = compute_BN(\"ppn\", test_input, {}, \"exponential\", result_single['bn'])\n",
    "    \n",
    "    print(f\"   Input: φ = {test_input.phi:.1f}\")\n",
    "    print(f\"   Original (κ={bn_params['kappa']:.1f}): N={pred_original['N']:.3f}, B={pred_original['B']:.3f}\")\n",
    "    print(f\"   Fitted (κ={result_single['bn']['kappa']:.3f}): N={pred_fitted['N']:.3f}, B={pred_fitted['B']:.3f}\")\n",
    "    \n",
    "    print(\"\\n🎉 FITMENT FRAMEWORK DEMO COMPLETE!\")\n",
    "    print(\"   • No-fit: Pass-through for testing\")\n",
    "    print(\"   • Single-param: 1D optimization for calibration\")\n",
    "    print(\"   • Both work seamlessly from notebooks and CLI!\")\n",
    "    \n",
    "else:\n",
    "    print(\"❌ Fitment framework not available - skipping demo\")"
   ]
  },
  {
   "cell_type": "markdown",
   "metadata": {
    "id": "interactive_widgets"
   },
   "source": [
    "### 🎮 Interactive Dropdown Widgets\n",
    "\n",
    "**NEW: Dynamic fitment selection with real-time updates that control experiments!**"
   ]
  },
  {
   "cell_type": "code",
   "execution_count": null,
   "metadata": {
    "id": "widget_setup"
   },
   "outputs": [],
   "source": [
    "# Interactive widget-based fitment explorer WITH BRIDGE INTEGRATION\n",
    "if 'demo_dataset' in locals() and demo_dataset is not None:\n",
    "    try:\n",
    "        import ipywidgets as widgets\n",
    "        from IPython.display import display, clear_output\n",
    "        import matplotlib.pyplot as plt\n",
    "        \n",
    "        print(\"🎮 INTERACTIVE FITMENT WIDGETS LOADED!\")\n",
    "        print(\"   Widgets now control actual experiment results!\")\n",
    "        \n",
    "        # Global variables for widget state\n",
    "        current_fitment_result = {}\n",
    "        \n",
    "        # Create widgets\n",
    "        fitment_dropdown = widgets.Dropdown(\n",
    "            options=list(list_fitments().keys()),\n",
    "            value='no_fit',\n",
    "            description='Fitment:',\n",
    "            style={'description_width': 'initial'}\n",
    "        )\n",
    "        \n",
    "        kappa_slider = widgets.FloatSlider(\n",
    "            value=2.0,\n",
    "            min=0.1,\n",
    "            max=5.0,\n",
    "            step=0.1,\n",
    "            description='Initial κ:',\n",
    "            style={'description_width': 'initial'}\n",
    "        )\n",
    "        \n",
    "        target_param_dropdown = widgets.Dropdown(\n",
    "            options=['kappa'],\n",
    "            value='kappa',\n",
    "            description='Target Param:',\n",
    "            style={'description_width': 'initial'}\n",
    "        )\n",
    "        \n",
    "        max_iter_slider = widgets.IntSlider(\n",
    "            value=20,\n",
    "            min=5,\n",
    "            max=50,\n",
    "            description='Max Iterations:',\n",
    "            style={'description_width': 'initial'}\n",
    "        )\n",
    "        \n",
    "        run_button = widgets.Button(\n",
    "            description='🚀 Run Fitment',\n",
    "            button_style='success'\n",
    "        )\n",
    "        \n",
    "        output_area = widgets.Output()\n",
    "        \n",
    "        # Interactive function with BRIDGE INTEGRATION\n",
    "        def run_selected_fitment(b=None):\n",
    "            with output_area:\n",
    "                clear_output(wait=True)\n",
    "                \n",
    "                fitment_name = fitment_dropdown.value\n",
    "                initial_kappa = kappa_slider.value\n",
    "                target_param = target_param_dropdown.value\n",
    "                max_iter = max_iter_slider.value\n",
    "                \n",
    "                print(f\"🔧 Running {fitment_name.upper()} fitment...\")\n",
    "                print(f\"   Initial κ: {initial_kappa}\")\n",
    "                \n",
    "                # Get the fitment and run it\n",
    "                fitter = get_fitment(fitment_name)\n",
    "                initial_params = {\"kappa\": initial_kappa}\n",
    "                \n",
    "                if fitment_name == \"no_fit\":\n",
    "                    result = fitter.fit(demo_dataset, \"ppn\", {}, \"exponential\", initial_params)\n",
    "                else:\n",
    "                    extra_params = {\n",
    "                        \"target_param\": target_param,\n",
    "                        \"init\": initial_kappa,\n",
    "                        \"max_iter\": max_iter\n",
    "                    }\n",
    "                    result = fitter.fit(\n",
    "                        demo_dataset, \"ppn\", {}, \"exponential\", initial_params,\n",
    "                        extra=extra_params\n",
    "                    )\n",
    "                \n",
    "                # Store result globally\n",
    "                global current_fitment_result\n",
    "                current_fitment_result = result\n",
    "                \n",
    "                # 🔗 BRIDGE INTEGRATION: Save state for experiments to use\n",
    "                try:\n",
    "                    from tacc.core.experiment_bridge import save_fitment_state\n",
    "                    save_fitment_state(fitment_name, result, extra_params if fitment_name != \"no_fit\" else {})\n",
    "                    print(\"   🔗 State saved for experiments!\")\n",
    "                except ImportError:\n",
    "                    print(\"   ⚠️ Bridge not available\")\n",
    "                \n",
    "                # Display results\n",
    "                final_kappa = result['bn']['kappa']\n",
    "                change = final_kappa - initial_kappa\n",
    "                \n",
    "                print(f\"\\n📊 RESULTS:\")\n",
    "                print(f\"   Final κ: {final_kappa:.4f}\")\n",
    "                print(f\"   Change: {change:+.4f}\")\n",
    "                \n",
    "                # Test prediction\n",
    "                test_input = MicrolawInput(phi=0.1)\n",
    "                pred = compute_BN(\"ppn\", test_input, {}, \"exponential\", result['bn'])\n",
    "                \n",
    "                print(f\"\\n🎯 PREDICTION (φ=0.1):\")\n",
    "                print(f\"   N = {pred['N']:.3f}\")\n",
    "                print(f\"   B = {pred['B']:.3f}\")\n",
    "                \n",
    "                # Show fitment behavior\n",
    "                if fitment_name == \"no_fit\":\n",
    "                    print(\"\\n✓ No-fit: Parameters unchanged (as expected)\")\n",
    "                else:\n",
    "                    print(f\"\\n✓ Single-param: Optimized κ after {max_iter} iterations\")\n",
    "                    \n",
    "                print(\"\\n🎯 YOUR FITMENT CHOICES NOW CONTROL EXPERIMENT RESULTS!\")\n",
    "        \n",
    "        # Connect button to function\n",
    "        run_button.on_click(run_selected_fitment)\n",
    "        \n",
    "        # Layout widgets\n",
    "        controls = widgets.VBox([\n",
    "            widgets.HTML(\"<h3>🎮 Interactive Fitment Explorer</h3>\"),\n",
    "            widgets.HTML(\"<p><strong>🔗 Bridge Active:</strong> Widget changes control experiment results!</p>\"),\n",
    "            fitment_dropdown,\n",
    "            kappa_slider,\n",
    "            widgets.HBox([target_param_dropdown, max_iter_slider]),\n",
    "            run_button\n",
    "        ])\n",
    "        \n",
    "        display(controls)\n",
    "        display(output_area)\n",
    "        \n",
    "        print(\"\\n👆 Use the dropdown to select fitments and adjust parameters!\")\n",
    "        print(\"   This dynamically discovers all available fitment files.\")\n",
    "        print(\"   🔗 BRIDGE ACTIVE: Your widget choices control experiment results!\")\n",
    "        \n",
    "    except ImportError:\n",
    "        print(\"❌ ipywidgets not available - install with: pip install ipywidgets\")\n",
    "        print(\"   Falling back to static demonstrations above.\")\n",
    "        \n",
    "else:\n",
    "    print(\"❌ Demo dataset not available - fitment framework may not be loaded\")"
   ]
  },
  {
   "cell_type": "markdown",
   "metadata": {
    "id": "experiments_header"
   },
   "source": [
    "## TACC Experiments Suite\n",
    "\n",
    "**🔗 NOTE: Experiments now use parameters from the fitment widgets above!**"
   ]
  },
  {
   "cell_type": "markdown",
   "metadata": {
    "id": "exp1"
   },
   "source": [
    "### 1. Causal Diamond"
   ]
  },
  {
   "cell_type": "code",
   "execution_count": null,
   "metadata": {
    "id": "run_causal_diamond"
   },
   "outputs": [],
   "source": [
    "from experiments.run_causal_diamond import main as run_causal_diamond\n",
    "\n",
    "print(\"Running Causal Diamond Experiment...\")\n",
    "diamond_results = run_causal_diamond()\n",
    "\n",
    "# Display saved outputs if available\n",
    "if 'files' in diamond_results:\n",
    "    from IPython.display import Image, display\n",
    "    demo_path = diamond_results['files']['demo_plot']\n",
    "    if Path(demo_path).exists():\n",
    "        display(Image(demo_path))"
   ]
  },
  {
   "cell_type": "markdown",
   "metadata": {
    "id": "exp2"
   },
   "source": [
    "### 2. Tension Bandgaps"
   ]
  },
  {
   "cell_type": "code",
   "execution_count": null,
   "metadata": {
    "id": "run_tension_bandgaps"
   },
   "outputs": [],
   "source": [
    "from experiments.run_tension_bandgaps import main as run_tension_bandgaps\n",
    "\n",
    "print(\"Running Tension Bandgaps Experiment...\")\n",
    "tension_results = run_tension_bandgaps()\n",
    "\n",
    "# Display saved outputs if available\n",
    "if 'files' in tension_results:\n",
    "    from IPython.display import Image, display\n",
    "    fit_path = tension_results['files']['fit_plot']\n",
    "    if Path(fit_path).exists():\n",
    "        display(Image(fit_path))\n",
    "    \n",
    "    res_path = tension_results['files']['residuals_plot']\n",
    "    if Path(res_path).exists():\n",
    "        display(Image(res_path))"
   ]
  },
  {
   "cell_type": "markdown",
   "metadata": {
    "id": "exp3"
   },
   "source": [
    "### 3. Mode Crowding"
   ]
  },
  {
   "cell_type": "code",
   "execution_count": null,
   "metadata": {
    "id": "run_mode_crowding"
   },
   "outputs": [],
   "source": [
    "from experiments.run_mode_crowding import main as run_mode_crowding\n",
    "\n",
    "print(\"Running Mode Crowding Experiment...\")\n",
    "crowding_results = run_mode_crowding()\n",
    "\n",
    "# Display saved outputs if available\n",
    "if 'files' in crowding_results:\n",
    "    from IPython.display import Image, display\n",
    "    plot_path = crowding_results['files']['plot']\n",
    "    if Path(plot_path).exists():\n",
    "        display(Image(plot_path))"
   ]
  },
  {
   "cell_type": "markdown",
   "metadata": {
    "id": "experiments_note"
   },
   "source": [
    "### Remaining Experiments Available\n",
    "\n",
    "**The following experiments are available in individual notebooks for comprehensive interactive analysis:**\n",
    "\n",
    "4. **[Bandgaps DoF](bandgaps_colab.ipynb)** - DoF law exploration with noise sensitivity and model comparison\n",
    "5. **[PPN Parameters](ppn_colab.ipynb)** - κ parameter space exploration with observational constraints\n",
    "6. **[Solar System Tests](geodesics_colab.ipynb)** - Historical measurements and constraint analysis\n",
    "7. **[Cosmological Expansion](cosmology_colab.ipynb)** - FLRW metrics with dark energy from computational capacity\n",
    "8. **[Black Hole Thermodynamics](#)** - Hawking radiation and M87* shadow constraints *(advanced)*\n",
    "9. **[Gravitational Wave Propagation](#)** - Binary inspirals and multi-messenger astronomy *(advanced)*\n",
    "\n",
    "Each provides rich interactive controls and parameter exploration!"
   ]
  },
  {
   "cell_type": "markdown",
   "metadata": {
    "id": "next_steps"
   },
   "source": [
    "## Research Directions\n",
    "\n",
    "1. **🔗 Try the Fitment Widgets**: Use the interactive widgets above - your choices now control experiment results!\n",
    "2. **Modify parameters** in the individual experiment runners for custom analysis\n",
    "3. **Combine results** across experiments to build coherent physical picture\n",
    "4. **Test observational constraints** using real data from telescopes and detectors\n",
    "5. **Explore parameter space** to find regions where TACC predicts observable deviations from GR\n",
    "6. **Add your own experiments** following the established interactive patterns\n",
    "7. **Develop theoretical foundations** - these provide mathematical frameworks that need physics grounding!\n",
    "\n",
    "**🎉 The framework now spans from microscopic computational foundations to macroscopic astrophysical applications, with a complete calibration system where your widget choices directly control experiment outcomes!**"
   ]
  }
 ],
 "metadata": {
  "colab": {
   "provenance": [],
   "include_colab_link": true
  },
  "kernelspec": {
   "display_name": "Python 3",
   "name": "python3"
  },
  "language_info": {
   "name": "python"
  }
 },
 "nbformat": 4,
 "nbformat_minor": 0
}
