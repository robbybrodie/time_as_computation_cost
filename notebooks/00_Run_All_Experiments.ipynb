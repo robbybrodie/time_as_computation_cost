{
  "cells": [
    {
      "cell_type": "markdown",
      "metadata": {
        "id": "view-in-github",
        "colab_type": "text"
      },
      "source": [
        "<a href=\"https://colab.research.google.com/github/robbybrodie/time_as_computation_cost/blob/main/notebooks/00_Run_All_Experiments.ipynb\" target=\"_parent\"><img src=\"https://colab.research.google.com/assets/colab-badge.svg\" alt=\"Open In Colab\"/></a>"
      ]
    },
    {
      "cell_type": "markdown",
      "metadata": {
        "id": "title"
      },
      "source": [
        "# Time as Computation Cost - All Experiments\n",
        "\n",
        "This notebook runs all TACC experiments in sequence:\n",
        "\n",
        "1. **Causal Diamond**: Lightcone lattice construction and propagation\n",
        "2. **Tension Bandgaps**: Micro fitting with model selection\n",
        "3. **Mode Crowding**: Occupancy vs capacity analysis\n",
        "4. **Bandgaps Fitting**: DoF law fitting (existing)\n",
        "5. **PPN Parameters**: Post-Newtonian parameter extraction (existing)\n",
        "6. **Solar System Tests**: Geodesics and relativistic effects (existing)"
      ]
    },
    {
      "cell_type": "markdown",
      "metadata": {
        "id": "setup"
      },
      "source": [
        "## Setup"
      ]
    },
    {
      "cell_type": "code",
      "execution_count": null,
      "metadata": {
        "id": "bootstrap"
      },
      "outputs": [],
      "source": [
        "# Colab bootstrap\n",
        "REPO_URL = \"https://github.com/robbybrodie/time_as_computation_cost.git\"\n",
        "REPO_NAME = \"time_as_computation_cost\"\n",
        "\n",
        "import pathlib\n",
        "import os\n",
        "\n",
        "if not pathlib.Path(REPO_NAME).exists():\n",
        "    print(f\"Cloning repository: {REPO_URL}\")\n",
        "    !git clone $REPO_URL\n",
        "else:\n",
        "    print(\"Repository already cloned\")\n",
        "\n",
        "os.chdir(REPO_NAME)\n",
        "print(f\"Changed directory to: {os.getcwd()}\")\n",
        "\n",
        "if pathlib.Path(\"pyproject.toml\").exists():\n",
        "    print(\"Installing package in editable mode...\")\n",
        "    !pip install -e .\n",
        "else:\n",
        "    print(\"No pyproject.toml found, proceeding with path-based imports\")"
      ]
    },
    {
      "cell_type": "code",
      "execution_count": null,
      "metadata": {
        "id": "imports"
      },
      "outputs": [],
      "source": [
        "import sys\n",
        "import matplotlib.pyplot as plt\n",
        "import numpy as np\n",
        "from pathlib import Path\n",
        "\n",
        "# Ensure we can import from src\n",
        "repo_root = Path().resolve()\n",
        "sys.path.insert(0, str(repo_root / \"src\"))\n",
        "\n",
        "print(\"Setup complete!\")\n",
        "print(f\"Repository root: {repo_root}\")"
      ]
    },
    {
      "cell_type": "markdown",
      "metadata": {
        "id": "new_experiments"
      },
      "source": [
        "## New Experiments"
      ]
    },
    {
      "cell_type": "markdown",
      "metadata": {
        "id": "causal_diamond"
      },
      "source": [
        "### 1. Causal Diamond"
      ]
    },
    {
      "cell_type": "code",
      "execution_count": null,
      "metadata": {
        "id": "run_causal_diamond"
      },
      "outputs": [],
      "source": [
        "from experiments.run_causal_diamond import main as run_causal_diamond\n",
        "\n",
        "print(\"Running Causal Diamond Experiment...\")\n",
        "diamond_results = run_causal_diamond()\n",
        "\n",
        "# Display saved outputs if available\n",
        "if 'files' in diamond_results:\n",
        "    from IPython.display import Image, display\n",
        "    demo_path = diamond_results['files']['demo_plot']\n",
        "    if Path(demo_path).exists():\n",
        "        display(Image(demo_path))"
      ]
    },
    {
      "cell_type": "markdown",
      "metadata": {
        "id": "tension_bandgaps"
      },
      "source": [
        "### 2. Tension Bandgaps"
      ]
    },
    {
      "cell_type": "code",
      "execution_count": null,
      "metadata": {
        "id": "run_tension_bandgaps"
      },
      "outputs": [],
      "source": [
        "from experiments.run_tension_bandgaps import main as run_tension_bandgaps\n",
        "\n",
        "print(\"Running Tension Bandgaps Experiment...\")\n",
        "bandgaps_results = run_tension_bandgaps()\n",
        "\n",
        "# Display saved outputs if available\n",
        "if 'files' in bandgaps_results:\n",
        "    from IPython.display import Image, display\n",
        "    fit_path = bandgaps_results['files']['fit_plot']\n",
        "    if Path(fit_path).exists():\n",
        "        display(Image(fit_path))\n",
        "    \n",
        "    res_path = bandgaps_results['files']['residuals_plot']\n",
        "    if Path(res_path).exists():\n",
        "        display(Image(res_path))"
      ]
    },
    {
      "cell_type": "markdown",
      "metadata": {
        "id": "mode_crowding"
      },
      "source": [
        "### 3. Mode Crowding"
      ]
    },
    {
      "cell_type": "code",
      "execution_count": null,
      "metadata": {
        "id": "run_mode_crowding"
      },
      "outputs": [],
      "source": [
        "from experiments.run_mode_crowding import main as run_mode_crowding\n",
        "\n",
        "print(\"Running Mode Crowding Experiment...\")\n",
        "crowding_results = run_mode_crowding()\n",
        "\n",
        "# Display saved outputs if available\n",
        "if 'files' in crowding_results:\n",
        "    from IPython.display import Image, display\n",
        "    plot_path = crowding_results['files']['plot']\n",
        "    if Path(plot_path).exists():\n",
        "        display(Image(plot_path))"
      ]
    },
    {
      "cell_type": "markdown",
      "metadata": {
        "id": "existing_experiments"
      },
      "source": [
        "## Existing Experiments"
      ]
    },
    {
      "cell_type": "markdown",
      "metadata": {
        "id": "original_bandgaps"
      },
      "source": [
        "### 4. Original Bandgaps Fitting"
      ]
    },
    {
      "cell_type": "code",
      "execution_count": null,
      "metadata": {
        "id": "run_original_bandgaps"
      },
      "outputs": [],
      "source": [
        "from experiments.run_bandgaps import main as run_original_bandgaps\n",
        "\n",
        "print(\"Running Original Bandgaps Experiment...\")\n",
        "try:\n",
        "    original_bandgaps_results = run_original_bandgaps()\n",
        "except Exception as e:\n",
        "    print(f\"Original bandgaps experiment failed: {e}\")\n",
        "    print(\"This is expected if the original experiment has different dependencies\")"
      ]
    },
    {
      "cell_type": "markdown",
      "metadata": {
        "id": "ppn_parameters"
      },
      "source": [
        "### 5. PPN Parameters"
      ]
    },
    {
      "cell_type": "code",
      "execution_count": null,
      "metadata": {
        "id": "run_ppn"
      },
      "outputs": [],
      "source": [
        "from experiments.run_ppn import main as run_ppn\n",
        "\n",
        "print(\"Running PPN Parameters Experiment...\")\n",
        "try:\n",
        "    ppn_results = run_ppn()\n",
        "except Exception as e:\n",
        "    print(f\"PPN experiment failed: {e}\")\n",
        "    print(\"This may be due to missing dependencies or path issues\")"
      ]
    },
    {
      "cell_type": "markdown",
      "metadata": {
        "id": "geodesics"
      },
      "source": [
        "### 6. Solar System Tests (Geodesics)"
      ]
    },
    {
      "cell_type": "code",
      "execution_count": null,
      "metadata": {
        "id": "run_geodesics"
      },
      "outputs": [],
      "source": [
        "from experiments.run_geodesics import main as run_geodesics\n",
        "\n",
        "print(\"Running Geodesics/Solar System Tests...\")\n",
        "try:\n",
        "    geodesics_results = run_geodesics()\n",
        "except Exception as e:\n",
        "    print(f\"Geodesics experiment failed: {e}\")\n",
        "    print(\"This may be due to missing dependencies or path issues\")"
      ]
    },
    {
      "cell_type": "markdown",
      "metadata": {
        "id": "summary"
      },
      "source": [
        "## Experiment Summary"
      ]
    },
    {
      "cell_type": "code",
      "execution_count": null,
      "metadata": {
        "id": "show_summary"
      },
      "outputs": [],
      "source": [
        "print(\"\\n\" + \"=\"*60)\n",
        "print(\"EXPERIMENT SUMMARY\")\n",
        "print(\"=\"*60)\n",
        "\n",
        "# New experiments\n",
        "print(\"\\nNEW EXPERIMENTS:\")\n",
        "print(\"1. Causal Diamond: ✓ Completed\")\n",
        "print(f\"   - Nodes: {diamond_results['metrics']['node_count']}\")\n",
        "print(f\"   - Edges: {diamond_results['metrics']['edge_count']}\")\n",
        "print(f\"   - Front deviation: {diamond_results['metrics']['front_symmetry_deviation']:.4f}\")\n",
        "\n",
        "print(\"\\n2. Tension Bandgaps: ✓ Completed\")\n",
        "print(f\"   - a_hat: {bandgaps_results['fitted_params']['a_hat']:.3f} (true: 2.0)\")\n",
        "print(f\"   - beta_hat: {bandgaps_results['fitted_params']['beta_hat']:.3f} (true: 1.5)\")\n",
        "best_model = min(bandgaps_results['model_comparison'], \n",
        "                key=lambda x: bandgaps_results['model_comparison'][x]['aic'])\n",
        "print(f\"   - Best model: {best_model.capitalize()}\")\n",
        "\n",
        "print(\"\\n3. Mode Crowding: ✓ Completed\")\n",
        "print(f\"   - PR_min: {crowding_results['metrics']['PR_min']:.3f}\")\n",
        "print(f\"   - Gini_max: {crowding_results['metrics']['Gini_max']:.3f}\")\n",
        "if crowding_results['metrics']['N_c_pr'] is not None:\n",
        "    print(f\"   - Critical N: {crowding_results['metrics']['N_c_pr']:.3f}\")\n",
        "else:\n",
        "    print(\"   - No critical point detected\")\n",
        "\n",
        "print(\"\\nOUTPUT LOCATIONS:\")\n",
        "print(\"- experiments/out/causal_diamond/\")\n",
        "print(\"- experiments/out/tension_bandgaps/\")\n",
        "print(\"- experiments/out/mode_crowding/\")\n",
        "\n",
        "print(\"\\n\" + \"=\"*60)\n",
        "print(\"All new experiments completed successfully!\")\n",
        "print(\"Check the output directories for detailed results and plots.\")\n",
        "print(\"=\"*60)"
      ]
    },
    {
      "cell_type": "markdown",
      "metadata": {
        "id": "next_steps"
      },
      "source": [
        "## Next Steps\n",
        "\n",
        "1. **Explore individual notebooks** for detailed analysis:\n",
        "   - [Causal Diamond](01_Causal_Diamond_Colab.ipynb)\n",
        "   - [Tension Bandgaps](02_Tension_Bandgaps_Colab.ipynb)\n",
        "   - [Mode Crowding](03_Mode_Crowding_Colab.ipynb)\n",
        "\n",
        "2. **Modify parameters** in the individual experiment runners\n",
        "\n",
        "3. **Add your own experiments** following the same pattern\n",
        "\n",
        "4. **Contribute to the theoretical foundation** - these are currently mathematical exercises that need physics grounding!"
      ]
    }
  ],
  "metadata": {
    "colab": {
      "provenance": []
    },
    "kernelspec": {
      "display_name": "Python 3",
      "name": "python3"
    },
    "language_info": {
      "name": "python"
    }
  },
  "nbformat": 4,
  "nbformat_minor": 0
}
