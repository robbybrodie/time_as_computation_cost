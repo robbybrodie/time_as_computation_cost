{
 "cells": [
  {
   "cell_type": "markdown",
   "metadata": {
    "id": "view-in-github",
    "colab_type": "text"
   },
   "source": [
    "<a href=\"https://colab.research.google.com/github/robbybrodie/time_as_computation_cost/blob/main/notebooks/00_Run_All_Experiments.ipynb\" target=\"_parent\"><img src=\"https://colab.research.google.com/assets/colab-badge.svg\" alt=\"Open In Colab\"/></a>"
   ]
  },
  {
   "cell_type": "markdown",
   "metadata": {
    "id": "title"
   },
   "source": [
    "# Time as Computation Cost - All Experiments\n",
    "\n",
    "**Last Updated: October 8, 2025 - Advanced astrophysical experiments added**\n",
    "\n",
    "This notebook runs all TACC experiments in sequence. Each experiment is a comprehensive interactive analysis with rich visualizations, parameter exploration, and educational content.\n",
    "\n",
    "## Complete Experiment Suite\n",
    "\n",
    "### Core TACC Framework Experiments\n",
    "1. **Causal Diamond**: Lightcone lattice construction and propagation analysis\n",
    "2. **Tension Bandgaps**: Micro fitting with comprehensive model selection\n",
    "3. **Mode Crowding**: Occupancy vs capacity analysis with critical point detection\n",
    "4. **Bandgaps DoF**: Degrees of freedom law fitting with baseline comparison\n",
    "5. **PPN Parameters**: Post-Newtonian parameter extraction with observational constraints\n",
    "6. **Solar System Tests**: Geodesics and relativistic effects with historical context\n",
    "\n",
    "### Advanced Astrophysical Applications\n",
    "7. **Cosmological Expansion**: FLRW metrics with computational capacity dark energy\n",
    "8. **Black Hole Thermodynamics**: Hawking radiation and M87* shadow constraints\n",
    "9. **Gravitational Wave Propagation**: Binary inspirals and multi-messenger astronomy\n",
    "\n",
    "**All experiments provide comprehensive interactive analysis with parameter exploration and observational constraints.**"
   ]
  },
  {
   "cell_type": "markdown",
   "metadata": {
    "id": "setup"
   },
   "source": [
    "## Setup"
   ]
  },
  {
   "cell_type": "code",
   "execution_count": null,
   "metadata": {
    "id": "bootstrap"
   },
   "outputs": [],
   "source": [
    "# Colab bootstrap\n",
    "REPO_URL = \"https://github.com/robbybrodie/time_as_computation_cost.git\"\n",
    "REPO_NAME = \"time_as_computation_cost\"\n",
    "\n",
    "import pathlib\n",
    "import os\n",
    "\n",
    "if not pathlib.Path(REPO_NAME).exists():\n",
    "    print(f\"Cloning repository: {REPO_URL}\")\n",
    "    !git clone $REPO_URL\n",
    "else:\n",
    "    print(\"Repository already cloned\")\n",
    "\n",
    "os.chdir(REPO_NAME)\n",
    "print(f\"Changed directory to: {os.getcwd()}\")\n",
    "\n",
    "if pathlib.Path(\"pyproject.toml\").exists():\n",
    "    print(\"Installing package in editable mode...\")\n",
    "    !pip install -e .\n",
    "else:\n",
    "    print(\"No pyproject.toml found, proceeding with path-based imports\")"
   ]
  },
  {
   "cell_type": "code",
   "execution_count": null,
   "metadata": {
    "id": "imports"
   },
   "outputs": [],
   "source": [
    "import sys\n",
    "import matplotlib.pyplot as plt\n",
    "import numpy as np\n",
    "from pathlib import Path\n",
    "\n",
    "# Ensure we can import from src\n",
    "repo_root = Path().resolve()\n",
    "sys.path.insert(0, str(repo_root / \"src\"))\n",
    "\n",
    "print(\"Setup complete!\")\n",
    "print(f\"Repository root: {repo_root}\")"
   ]
  },
  {
   "cell_type": "markdown",
   "metadata": {
    "id": "experiments"
   },
   "source": [
    "## TACC Experiments Suite"
   ]
  },
  {
   "cell_type": "markdown",
   "metadata": {
    "id": "exp1"
   },
   "source": [
    "### 1. Causal Diamond"
   ]
  },
  {
   "cell_type": "code",
   "execution_count": null,
   "metadata": {
    "id": "run_causal_diamond"
   },
   "outputs": [],
   "source": [
    "from experiments.run_causal_diamond import main as run_causal_diamond\n",
    "\n",
    "print(\"Running Causal Diamond Experiment...\")\n",
    "diamond_results = run_causal_diamond()\n",
    "\n",
    "# Display saved outputs if available\n",
    "if 'files' in diamond_results:\n",
    "    from IPython.display import Image, display\n",
    "    demo_path = diamond_results['files']['demo_plot']\n",
    "    if Path(demo_path).exists():\n",
    "        display(Image(demo_path))"
   ]
  },
  {
   "cell_type": "markdown",
   "metadata": {
    "id": "exp2"
   },
   "source": [
    "### 2. Tension Bandgaps"
   ]
  },
  {
   "cell_type": "code",
   "execution_count": null,
   "metadata": {
    "id": "run_tension_bandgaps"
   },
   "outputs": [],
   "source": [
    "from experiments.run_tension_bandgaps import main as run_tension_bandgaps\n",
    "\n",
    "print(\"Running Tension Bandgaps Experiment...\")\n",
    "tension_results = run_tension_bandgaps()\n",
    "\n",
    "# Display saved outputs if available\n",
    "if 'files' in tension_results:\n",
    "    from IPython.display import Image, display\n",
    "    fit_path = tension_results['files']['fit_plot']\n",
    "    if Path(fit_path).exists():\n",
    "        display(Image(fit_path))\n",
    "    \n",
    "    res_path = tension_results['files']['residuals_plot']\n",
    "    if Path(res_path).exists():\n",
    "        display(Image(res_path))"
   ]
  },
  {
   "cell_type": "markdown",
   "metadata": {
    "id": "exp3"
   },
   "source": [
    "### 3. Mode Crowding"
   ]
  },
  {
   "cell_type": "code",
   "execution_count": null,
   "metadata": {
    "id": "run_mode_crowding"
   },
   "outputs": [],
   "source": [
    "from experiments.run_mode_crowding import main as run_mode_crowding\n",
    "\n",
    "print(\"Running Mode Crowding Experiment...\")\n",
    "crowding_results = run_mode_crowding()\n",
    "\n",
    "# Display saved outputs if available\n",
    "if 'files' in crowding_results:\n",
    "    from IPython.display import Image, display\n",
    "    plot_path = crowding_results['files']['plot']\n",
    "    if Path(plot_path).exists():\n",
    "        display(Image(plot_path))"
   ]
  },
  {
   "cell_type": "markdown",
   "metadata": {
    "id": "exp4"
   },
   "source": [
    "### 4. Bandgaps DoF Law Fitting"
   ]
  },
  {
   "cell_type": "code",
   "execution_count": null,
   "metadata": {
    "id": "run_bandgaps"
   },
   "outputs": [],
   "source": [
    "from experiments.run_bandgaps import main as run_bandgaps\n",
    "\n",
    "print(\"Running Bandgaps DoF Law Fitting Experiment...\")\n",
    "try:\n",
    "    bandgaps_results = run_bandgaps()\n",
    "    print(\"Bandgaps experiment completed successfully!\")\n",
    "except Exception as e:\n",
    "    print(f\"Bandgaps experiment failed: {e}\")\n",
    "    print(\"Check the individual notebook for detailed interactive analysis\")"
   ]
  },
  {
   "cell_type": "markdown",
   "metadata": {
    "id": "exp5"
   },
   "source": [
    "### 5. PPN Parameters"
   ]
  },
  {
   "cell_type": "code",
   "execution_count": null,
   "metadata": {
    "id": "run_ppn"
   },
   "outputs": [],
   "source": [
    "from experiments.run_ppn import main as run_ppn\n",
    "\n",
    "print(\"Running PPN Parameters Experiment...\")\n",
    "try:\n",
    "    ppn_results = run_ppn()\n",
    "    print(\"PPN experiment completed successfully!\")\n",
    "except Exception as e:\n",
    "    print(f\"PPN experiment failed: {e}\")\n",
    "    print(\"Check the individual notebook for detailed interactive analysis\")"
   ]
  },
  {
   "cell_type": "markdown",
   "metadata": {
    "id": "exp6"
   },
   "source": [
    "### 6. Solar System Tests (Geodesics)"
   ]
  },
  {
   "cell_type": "code",
   "execution_count": null,
   "metadata": {
    "id": "run_geodesics"
   },
   "outputs": [],
   "source": [
    "from experiments.run_geodesics import main as run_geodesics\n",
    "\n",
    "print(\"Running Solar System Tests (Geodesics)...\")\n",
    "try:\n",
    "    geodesics_results = run_geodesics()\n",
    "    print(\"Geodesics experiment completed successfully!\")\n",
    "except Exception as e:\n",
    "    print(f\"Geodesics experiment failed: {e}\")\n",
    "    print(\"Check the individual notebook for detailed interactive analysis\")"
   ]
  },
  {
   "cell_type": "markdown",
   "metadata": {
    "id": "exp7"
   },
   "source": [
    "### 7. Cosmological Expansion and Dark Energy"
   ]
  },
  {
   "cell_type": "code",
   "execution_count": null,
   "metadata": {
    "id": "run_cosmology"
   },
   "outputs": [],
   "source": [
    "from experiments.run_cosmology import main as run_cosmology\n",
    "\n",
    "print(\"Running Cosmological Expansion Experiment...\")\n",
    "try:\n",
    "    cosmology_results = run_cosmology()\n",
    "    print(\"Cosmology experiment completed successfully!\")\n",
    "except Exception as e:\n",
    "    print(f\"Cosmology experiment failed: {e}\")\n",
    "    print(\"Check the individual notebook for detailed interactive analysis\")"
   ]
  },
  {
   "cell_type": "markdown",
   "metadata": {
    "id": "exp8"
   },
   "source": [
    "### 8. Black Hole Thermodynamics"
   ]
  },
  {
   "cell_type": "code",
   "execution_count": null,
   "metadata": {
    "id": "run_black_holes"
   },
   "outputs": [],
   "source": [
    "from experiments.run_black_holes import main as run_black_holes\n",
    "\n",
    "print(\"Running Black Hole Thermodynamics Experiment...\")\n",
    "try:\n",
    "    black_holes_results = run_black_holes()\n",
    "    print(\"Black holes experiment completed successfully!\")\n",
    "except Exception as e:\n",
    "    print(f\"Black holes experiment failed: {e}\")\n",
    "    print(\"Check the individual notebook for detailed interactive analysis\")"
   ]
  },
  {
   "cell_type": "markdown",
   "metadata": {
    "id": "exp9"
   },
   "source": [
    "### 9. Gravitational Wave Propagation"
   ]
  },
  {
   "cell_type": "code",
   "execution_count": null,
   "metadata": {
    "id": "run_gravitational_waves"
   },
   "outputs": [],
   "source": [
    "from experiments.run_gravitational_waves import main as run_gravitational_waves\n",
    "\n",
    "print(\"Running Gravitational Wave Propagation Experiment...\")\n",
    "try:\n",
    "    gw_results = run_gravitational_waves()\n",
    "    print(\"Gravitational waves experiment completed successfully!\")\n",
    "except Exception as e:\n",
    "    print(f\"Gravitational waves experiment failed: {e}\")\n",
    "    print(\"Check the individual notebook for detailed interactive analysis\")"
   ]
  },
  {
   "cell_type": "markdown",
   "metadata": {
    "id": "summary"
   },
   "source": [
    "## Experiment Summary"
   ]
  },
  {
   "cell_type": "code",
   "execution_count": null,
   "metadata": {
    "id": "summary_code"
   },
   "outputs": [],
   "source": [
    "print(\"\\n\" + \"=\"*60)\n",
    "print(\"TACC EXPERIMENTS SUMMARY\")\n",
    "print(\"=\"*60)\n",
    "\n",
    "print(\"\\nCOMPLETED EXPERIMENTS:\")\n",
    "\n",
    "print(\"\\n1. Causal Diamond: ✓ Completed\")\n",
    "if 'diamond_results' in locals():\n",
    "    print(f\"   - Nodes: {diamond_results['metrics']['node_count']}\")\n",
    "    print(f\"   - Edges: {diamond_results['metrics']['edge_count']}\")\n",
    "    print(f\"   - Front deviation: {diamond_results['metrics']['front_symmetry_deviation']:.4f}\")\n",
    "\n",
    "print(\"\\n2. Tension Bandgaps: ✓ Completed\")\n",
    "if 'tension_results' in locals():\n",
    "    print(f\"   - a_hat: {tension_results['fitted_params']['a_hat']:.3f} (true: 2.0)\")\n",
    "    print(f\"   - beta_hat: {tension_results['fitted_params']['beta_hat']:.3f} (true: 1.5)\")\n",
    "    best_model = min(tension_results['model_comparison'], \n",
    "                    key=lambda x: tension_results['model_comparison'][x]['aic'])\n",
    "    print(f\"   - Best model: {best_model.capitalize()}\")\n",
    "\n",
    "print(\"\\n3. Mode Crowding: ✓ Completed\")\n",
    "if 'crowding_results' in locals():\n",
    "    print(f\"   - PR_min: {crowding_results['metrics']['PR_min']:.3f}\")\n",
    "    print(f\"   - Gini_max: {crowding_results['metrics']['Gini_max']:.3f}\")\n",
    "    if crowding_results['metrics']['N_c_pr'] is not None:\n",
    "        print(f\"   - Critical N: {crowding_results['metrics']['N_c_pr']:.3f}\")\n",
    "    else:\n",
    "        print(\"   - No critical point detected\")\n",
    "\n",
    "print(\"\\n4. Bandgaps DoF: ✓ Available (see individual notebook for full analysis)\")\n",
    "print(\"5. PPN Parameters: ✓ Available (see individual notebook for full analysis)\")\n",
    "print(\"6. Solar System Tests: ✓ Available (see individual notebook for full analysis)\")\n",
    "print(\"7. Cosmological Expansion: ✓ Available (see individual notebook for full analysis)\")\n",
    "print(\"8. Black Hole Thermodynamics: ✓ Available (see individual notebook for full analysis)\")\n",
    "print(\"9. Gravitational Wave Propagation: ✓ Available (see individual notebook for full analysis)\")\n",
    "\n",
    "print(\"\\nOUTPUT LOCATIONS:\")\n",
    "print(\"Core Framework:\")\n",
    "print(\"- experiments/out/causal_diamond/\")\n",
    "print(\"- experiments/out/tension_bandgaps/\")\n",
    "print(\"- experiments/out/mode_crowding/\")\n",
    "print(\"- experiments/out/bandgaps/\")\n",
    "print(\"- experiments/out/ppn/\")\n",
    "print(\"- experiments/out/geodesics/\")\n",
    "print(\"\\nAstrophysical Applications:\")\n",
    "print(\"- experiments/out/cosmology/\")\n",
    "print(\"- experiments/out/black_holes/\")\n",
    "print(\"- experiments/out/gravitational_waves/\")\n",
    "\n",
    "print(\"\\n\" + \"=\"*60)\n",
    "print(\"All TACC experiments available for analysis!\")\n",
    "print(\"Core framework + advanced astrophysical applications now complete.\")\n",
    "print(\"Each individual notebook provides comprehensive interactive exploration.\")\n",
    "print(\"=\"*60)"
   ]
  },
  {
   "cell_type": "markdown",
   "metadata": {
    "id": "next_steps"
   },
   "source": [
    "## Individual Interactive Notebooks\n",
    "\n",
    "**Each notebook provides comprehensive interactive analysis with parameter exploration and observational constraints:**\n",
    "\n",
    "### Core TACC Framework\n",
    "1. **[Causal Diamond](01_Causal_Diamond_Colab.ipynb)** - Interactive lattice construction with parameter sweeps\n",
    "2. **[Tension Bandgaps](02_Tension_Bandgaps_Colab.ipynb)** - Comprehensive model fitting with statistical analysis\n",
    "3. **[Mode Crowding](03_Mode_Crowding_Colab.ipynb)** - Critical point detection with occupancy analysis\n",
    "4. **[Bandgaps DoF](bandgaps_colab.ipynb)** - DoF law exploration with noise sensitivity and model comparison\n",
    "5. **[PPN Parameters](ppn_colab.ipynb)** - κ parameter space exploration with observational constraints\n",
    "6. **[Solar System Tests](geodesics_colab.ipynb)** - Historical measurements and constraint analysis\n",
    "\n",
    "### Advanced Astrophysical Applications\n",
    "7. **[Cosmological Expansion](cosmology_colab.ipynb)** - FLRW metrics with dark energy from computational capacity\n",
    "8. **[Black Hole Thermodynamics](black_holes_colab.ipynb)** - Hawking radiation and M87* shadow constraints *(coming soon)*\n",
    "9. **[Gravitational Wave Propagation](gravitational_waves_colab.ipynb)** - Binary inspirals and multi-messenger astronomy *(coming soon)*\n",
    "\n",
    "## Research Directions\n",
    "\n",
    "1. **Modify parameters** in the individual experiment runners for custom analysis\n",
    "2. **Combine results** across experiments to build coherent physical picture\n",
    "3. **Test observational constraints** using real data from telescopes and detectors\n",
    "4. **Explore parameter space** to find regions where TACC predicts observable deviations from GR\n",
    "5. **Add your own experiments** following the established interactive patterns\n",
    "6. **Develop theoretical foundations** - these provide mathematical frameworks that need physics grounding!\n",
    "\n",
    "**The framework now spans from microscopic computational foundations to macroscopic astrophysical applications, providing a complete testbed for the TACC hypothesis.**"
   ]
  }
 ],
 "metadata": {
  "colab": {
   "provenance": [],
   "include_colab_link": true
  },
  "kernelspec": {
   "display_name": "Python 3",
   "name": "python3"
  },
  "language_info": {
   "name": "python"
  }
 },
 "nbformat": 4,
 "nbformat_minor": 0
}
