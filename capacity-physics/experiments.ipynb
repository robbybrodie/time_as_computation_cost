{
 "cells": [
  {
   "cell_type": "markdown",
   "metadata": {},
   "source": [
    "# Experiments: Time as Computation Cost\n",
    "\n",
    "This notebook lets you run and explore experiments from the Time as Computation Cost project, using Google Colab.\n",
    "\n",
    "You can run the code below to try out the main ideas, even if you don't have anything installed on your computer."
   ]
  },
  {
   "cell_type": "markdown",
   "metadata": {},
   "source": [
    "## Setup\n",
    "\n",
    "First, let's install any required dependencies and set up the environment."
   ]
  },
  {
   "cell_type": "code",
   "metadata": {},
   "source": [
    "# Install dependencies (if needed)\n",
    "!pip install -e ./capacity-physics"
   ],
   "execution_count": null,
   "outputs": []
  },
  {
   "cell_type": "markdown",
   "metadata": {},
   "source": [
    "## Example: Using the capacity-physics package\n",
    "\n",
    "Below is a simple example of how to use the code from this project. You can modify this to run your own experiments."
   ]
  },
  {
   "cell_type": "code",
   "metadata": {},
   "source": [
    "from capacity import metric\n",
    "\n",
    "# Example: create a metric object and print info (customize as needed)\n",
    "m = metric.Metric()\n",
    "print(m)"
   ],
   "execution_count": null,
   "outputs": []
  },
  {
   "cell_type": "markdown",
   "metadata": {},
   "source": [
    "## Next Steps\n",
    "\n",
    "- Try changing the code above to run different experiments\n",
    "- Explore the `capacity-physics` folder for more modules and functions\n",
    "- Save your results or share your notebook with others"
   ]
  }
 ],
 "metadata": {
  "kernelspec": {
   "display_name": "Python 3",
   "language": "python",
   "name": "python3"
  },
  "language_info": {
   "name": "python",
   "version": ""
  }
 },
 "nbformat": 4,
 "nbformat_minor": 2
}
